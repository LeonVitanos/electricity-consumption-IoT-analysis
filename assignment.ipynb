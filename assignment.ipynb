{
 "cells": [
  {
   "cell_type": "markdown",
   "metadata": {},
   "source": [
    "# Practical: Data Analysis\n",
    "\n",
    "In this assignment you will experiment with\n",
    "\n",
    "- exploring the data collected at a home and a weather station around the Eindhoven area,\n",
    "- building a predictive model for estimating the amount of electricity produced by the solar panels at the home given a weather forecast.\n",
    "\n",
    "This notebook will guide you through the typical steps that such work would involve. It demonstrates how to explore and clean the data, and how to use it to train predictive models.\n",
    "\n",
    "#### Goal\n",
    "\n",
    "Your task is to train a model on the time series data containing:\n",
    "\n",
    "- measurements of the amount of electricity produced by the solar panels on the roof of a home in the Eindhoven area\n",
    "- weather measurements around the Eindhoven airport\n",
    "\n",
    "in order to predict the hourly solar panel output given the weather forecast for a particular hour of a particular day.\n",
    "\n",
    "#### Jupyter notebooks\n",
    "\n",
    "For those who are new to jupyter notebooks, a typical notebook contains text cells (like this one) interleaved with code cells (the gray boxes). You can execute a cell by selecting it and pressing Shift+Enter. The expression in the last line in a cell is the output of that cell. Try executing the following cell."
   ]
  },
  {
   "cell_type": "code",
   "execution_count": null,
   "metadata": {
    "scrolled": true
   },
   "outputs": [],
   "source": [
    "def add(a, b):\n",
    "    return a + b\n",
    "\n",
    "add(1,2)"
   ]
  },
  {
   "cell_type": "markdown",
   "metadata": {},
   "source": [
    "You can find out more about jupyter notbooks at:\n",
    "\n",
    "- https://jupyter-notebook-beginner-guide.readthedocs.io/en/latest/\n",
    "- http://nbviewer.jupyter.org/github/jupyter/notebook/blob/master/docs/source/examples/Notebook/Notebook%20Basics.ipynb\n",
    "- http://nbviewer.jupyter.org/github/jupyter/notebook/tree/master/docs/source/examples/Notebook/\n",
    "\n",
    "#### References\n",
    "\n",
    "The \"Python Data Scinence Handbook\" provides a good overview of using python for data data analysis and you are encouraged to consult it during this assignment:\n",
    "\n",
    "- https://jakevdp.github.io/PythonDataScienceHandbook/\n",
    "\n",
    "The \"Introduction to Statistical Learning\" [ISLR] (7th edition) book provides a good introduction to machine learning from the statistical perspective:\n",
    "\n",
    "- http://faculty.marshall.usc.edu/gareth-james/ISL/\n",
    "\n",
    "The \"Dataset Shift in Machine Learning\" book by Joaquin Quiñonero-Candela, Masashi Sugiyama, Anton Schwaighofer and Neil D. Lawrence provides a good overview of the problems that may arise when the test and training inputs and outputs have different distributions. You can find more information about the book at:\n",
    "\n",
    "- https://mitpress.mit.edu/books/dataset-shift-machine-learning\n",
    "\n",
    "#### Deliverable\n",
    "\n",
    "Throughout this notebook you will find cells starting with `#TODO` and `#BEGIN_TODO`. Fill in all these TODO cells. The `#TODO` cells are meant to guide you, while the `#BEGIN_TODO` _answer cells_ will be graded.\n",
    "\n",
    "- Answer cells start and end with tags, `# // BEGIN_TODO [Q0]` and `# // END_TODO [Q0]`, for example. Do not edit these tags in any way, else your answers may not be parsed by our grading system. \n",
    "- Your answers should be provided in Python code format between the tag lines, for example:\n",
    "```\n",
    "# // BEGIN_TODO [Q0]\n",
    "q0 = 1\n",
    "# // END_TODO [Q0]\n",
    "```\n",
    "- Do not place any other code between the tags, unless explicitly requested.\n",
    "- Do not reuse the variable names from the answer cells that you are supposed to use to fill in answers, so in case of the example above, do not reuse `q0` later in the notebook.\n",
    "\n",
    "You are encouraged to play with the data and extend this notebook in order to obtain your answers. You may insert cells at any point in the notebook, as long as the question cells remain unaltered. At the end, deliver the filled in `.ipynb` file.\n",
    "\n",
    "> **IMPORTANT:** Before delivering your notebook, make sure that the cells in your notebook can be executed in sequence without errors, by executing \"Restart & Run All\" from the \"Kernel\" menu. This is also how your notebook will be evaluated.\n",
    "\n",
    "Let's get started by filling in your details in the following answer cell. Assign your names and student ids to variables `name_student1`, `id_student1`, `name_student2`, `id_student2`, e.g.:\n",
    "\n",
    "```\n",
    "# // BEGIN_TODO [Q0]\n",
    "name_student1 = \"John Smith\"\n",
    "id_student1 = \"1234567\"\n",
    "name_student2 = \"Jane Miller\"\n",
    "id_student2 = \"7654321\"\n",
    "# // END_TODO [Q0]\n",
    "```"
   ]
  },
  {
   "cell_type": "code",
   "execution_count": null,
   "metadata": {},
   "outputs": [],
   "source": [
    "# // BEGIN_TODO [Q0]\n",
    "name_student1 = \"Stefan Popa\"\n",
    "id_student1 = \"1254898\"\n",
    "name_student2 = \"Leon Vitanos\"\n",
    "id_student2 = \"1640615\"\n",
    "# // END_TODO [Q0]"
   ]
  },
  {
   "cell_type": "markdown",
   "metadata": {},
   "source": [
    "### Import the relevant libraries\n",
    "\n",
    "In this assignment we will be using mainly the following libraries:\n",
    "\n",
    "- `pandas` for organizing the data\n",
    "- `numpy` for operating on the data\n",
    "- `matplotlib` for visualizing the data\n",
    "- `sklearn` for training and evaluating a model on the data\n",
    "- other utility libraries"
   ]
  },
  {
   "cell_type": "code",
   "execution_count": 3,
   "metadata": {},
   "outputs": [],
   "source": [
    "%matplotlib inline\n",
    "import matplotlib.pyplot as plt\n",
    "import pandas as pd\n",
    "import numpy as np\n",
    "from sklearn.linear_model import *\n",
    "from sklearn.metrics import *\n",
    "from sklearn.model_selection import *\n",
    "from sklearn.neighbors import LocalOutlierFactor\n",
    "from sklearn import tree\n",
    "import glob"
   ]
  },
  {
   "cell_type": "markdown",
   "metadata": {},
   "source": [
    "### Read the data\n",
    "\n",
    "The data resides in two files:"
   ]
  },
  {
   "cell_type": "code",
   "execution_count": 4,
   "metadata": {},
   "outputs": [
    {
     "name": "stderr",
     "output_type": "stream",
     "text": [
      "/home/leon/.local/lib/python3.8/site-packages/IPython/core/interactiveshell.py:3146: DtypeWarning: Columns (5) have mixed types.Specify dtype option on import or set low_memory=False.\n",
      "  has_raised = await self.run_ast_nodes(code_ast.body, cell_name,\n"
     ]
    },
    {
     "data": {
      "text/html": [
       "<div>\n",
       "<style scoped>\n",
       "    .dataframe tbody tr th:only-of-type {\n",
       "        vertical-align: middle;\n",
       "    }\n",
       "\n",
       "    .dataframe tbody tr th {\n",
       "        vertical-align: top;\n",
       "    }\n",
       "\n",
       "    .dataframe thead th {\n",
       "        text-align: right;\n",
       "    }\n",
       "</style>\n",
       "<table border=\"1\" class=\"dataframe\">\n",
       "  <thead>\n",
       "    <tr style=\"text-align: right;\">\n",
       "      <th></th>\n",
       "      <th>date</th>\n",
       "      <th>time</th>\n",
       "      <th>seconds</th>\n",
       "      <th>total_consumption</th>\n",
       "      <th>total_production</th>\n",
       "      <th>solar_production</th>\n",
       "      <th>total_solar_production</th>\n",
       "      <th>year</th>\n",
       "    </tr>\n",
       "  </thead>\n",
       "  <tbody>\n",
       "    <tr>\n",
       "      <th>95500</th>\n",
       "      <td>2017-01-12</td>\n",
       "      <td>07:28:18</td>\n",
       "      <td>1484202498</td>\n",
       "      <td>13317.657</td>\n",
       "      <td>4514.992</td>\n",
       "      <td>0</td>\n",
       "      <td>4177.2</td>\n",
       "      <td>2017</td>\n",
       "    </tr>\n",
       "    <tr>\n",
       "      <th>95501</th>\n",
       "      <td>2017-01-12</td>\n",
       "      <td>07:28:28</td>\n",
       "      <td>1484202508</td>\n",
       "      <td>13317.658</td>\n",
       "      <td>4514.992</td>\n",
       "      <td>0</td>\n",
       "      <td>4177.2</td>\n",
       "      <td>2017</td>\n",
       "    </tr>\n",
       "    <tr>\n",
       "      <th>95502</th>\n",
       "      <td>2017-01-12</td>\n",
       "      <td>07:28:38</td>\n",
       "      <td>1484202518</td>\n",
       "      <td>13317.658</td>\n",
       "      <td>4514.992</td>\n",
       "      <td>0</td>\n",
       "      <td>4177.2</td>\n",
       "      <td>2017</td>\n",
       "    </tr>\n",
       "    <tr>\n",
       "      <th>95503</th>\n",
       "      <td>2017-01-12</td>\n",
       "      <td>07:28:48</td>\n",
       "      <td>1484202528</td>\n",
       "      <td>13317.659</td>\n",
       "      <td>4514.992</td>\n",
       "      <td>0</td>\n",
       "      <td>4177.2</td>\n",
       "      <td>2017</td>\n",
       "    </tr>\n",
       "    <tr>\n",
       "      <th>95504</th>\n",
       "      <td>2017-01-12</td>\n",
       "      <td>07:28:58</td>\n",
       "      <td>1484202538</td>\n",
       "      <td>13317.660</td>\n",
       "      <td>4514.992</td>\n",
       "      <td>0</td>\n",
       "      <td>4177.2</td>\n",
       "      <td>2017</td>\n",
       "    </tr>\n",
       "    <tr>\n",
       "      <th>...</th>\n",
       "      <td>...</td>\n",
       "      <td>...</td>\n",
       "      <td>...</td>\n",
       "      <td>...</td>\n",
       "      <td>...</td>\n",
       "      <td>...</td>\n",
       "      <td>...</td>\n",
       "      <td>...</td>\n",
       "    </tr>\n",
       "    <tr>\n",
       "      <th>955995</th>\n",
       "      <td>2017-05-20</td>\n",
       "      <td>12:53:37</td>\n",
       "      <td>1495277617</td>\n",
       "      <td>14703.176</td>\n",
       "      <td>5078.600</td>\n",
       "      <td>671</td>\n",
       "      <td>5135.3</td>\n",
       "      <td>2017</td>\n",
       "    </tr>\n",
       "    <tr>\n",
       "      <th>955996</th>\n",
       "      <td>2017-05-20</td>\n",
       "      <td>12:53:47</td>\n",
       "      <td>1495277627</td>\n",
       "      <td>14703.176</td>\n",
       "      <td>5078.601</td>\n",
       "      <td>671</td>\n",
       "      <td>5135.3</td>\n",
       "      <td>2017</td>\n",
       "    </tr>\n",
       "    <tr>\n",
       "      <th>955997</th>\n",
       "      <td>2017-05-20</td>\n",
       "      <td>12:53:57</td>\n",
       "      <td>1495277637</td>\n",
       "      <td>14703.176</td>\n",
       "      <td>5078.601</td>\n",
       "      <td>671</td>\n",
       "      <td>5135.3</td>\n",
       "      <td>2017</td>\n",
       "    </tr>\n",
       "    <tr>\n",
       "      <th>955998</th>\n",
       "      <td>2017-05-20</td>\n",
       "      <td>12:54:07</td>\n",
       "      <td>1495277647</td>\n",
       "      <td>14703.176</td>\n",
       "      <td>5078.602</td>\n",
       "      <td>671</td>\n",
       "      <td>5135.3</td>\n",
       "      <td>2017</td>\n",
       "    </tr>\n",
       "    <tr>\n",
       "      <th>955999</th>\n",
       "      <td>2017-05-20</td>\n",
       "      <td>12:54:17</td>\n",
       "      <td>1495277657</td>\n",
       "      <td>14703.176</td>\n",
       "      <td>5078.603</td>\n",
       "      <td>671</td>\n",
       "      <td>5135.3</td>\n",
       "      <td>2017</td>\n",
       "    </tr>\n",
       "  </tbody>\n",
       "</table>\n",
       "<p>860500 rows × 8 columns</p>\n",
       "</div>"
      ],
      "text/plain": [
       "              date       time     seconds  total_consumption  \\\n",
       "95500   2017-01-12   07:28:18  1484202498          13317.657   \n",
       "95501   2017-01-12   07:28:28  1484202508          13317.658   \n",
       "95502   2017-01-12   07:28:38  1484202518          13317.658   \n",
       "95503   2017-01-12   07:28:48  1484202528          13317.659   \n",
       "95504   2017-01-12   07:28:58  1484202538          13317.660   \n",
       "...            ...        ...         ...                ...   \n",
       "955995  2017-05-20   12:53:37  1495277617          14703.176   \n",
       "955996  2017-05-20   12:53:47  1495277627          14703.176   \n",
       "955997  2017-05-20   12:53:57  1495277637          14703.176   \n",
       "955998  2017-05-20   12:54:07  1495277647          14703.176   \n",
       "955999  2017-05-20   12:54:17  1495277657          14703.176   \n",
       "\n",
       "        total_production solar_production  total_solar_production  year  \n",
       "95500           4514.992                0                  4177.2  2017  \n",
       "95501           4514.992                0                  4177.2  2017  \n",
       "95502           4514.992                0                  4177.2  2017  \n",
       "95503           4514.992                0                  4177.2  2017  \n",
       "95504           4514.992                0                  4177.2  2017  \n",
       "...                  ...              ...                     ...   ...  \n",
       "955995          5078.600              671                  5135.3  2017  \n",
       "955996          5078.601              671                  5135.3  2017  \n",
       "955997          5078.601              671                  5135.3  2017  \n",
       "955998          5078.602              671                  5135.3  2017  \n",
       "955999          5078.603              671                  5135.3  2017  \n",
       "\n",
       "[860500 rows x 8 columns]"
      ]
     },
     "execution_count": 4,
     "metadata": {},
     "output_type": "execute_result"
    }
   ],
   "source": [
    "raw_energy = pd.read_csv(\"energy_171819.csv\")\n",
    "raw_energy[95500:956000]"
   ]
  },
  {
   "cell_type": "code",
   "execution_count": 5,
   "metadata": {},
   "outputs": [
    {
     "data": {
      "text/html": [
       "<div>\n",
       "<style scoped>\n",
       "    .dataframe tbody tr th:only-of-type {\n",
       "        vertical-align: middle;\n",
       "    }\n",
       "\n",
       "    .dataframe tbody tr th {\n",
       "        vertical-align: top;\n",
       "    }\n",
       "\n",
       "    .dataframe thead th {\n",
       "        text-align: right;\n",
       "    }\n",
       "</style>\n",
       "<table border=\"1\" class=\"dataframe\">\n",
       "  <thead>\n",
       "    <tr style=\"text-align: right;\">\n",
       "      <th></th>\n",
       "      <th>date</th>\n",
       "      <th>time</th>\n",
       "      <th>seconds</th>\n",
       "      <th>total_consumption</th>\n",
       "      <th>total_production</th>\n",
       "      <th>solar_production</th>\n",
       "      <th>total_solar_production</th>\n",
       "      <th>year</th>\n",
       "    </tr>\n",
       "  </thead>\n",
       "  <tbody>\n",
       "    <tr>\n",
       "      <th>95500</th>\n",
       "      <td>2017-01-12</td>\n",
       "      <td>07:28:18</td>\n",
       "      <td>1484206098</td>\n",
       "      <td>13317.657</td>\n",
       "      <td>4514.992</td>\n",
       "      <td>0</td>\n",
       "      <td>4177.2</td>\n",
       "      <td>2017</td>\n",
       "    </tr>\n",
       "    <tr>\n",
       "      <th>95501</th>\n",
       "      <td>2017-01-12</td>\n",
       "      <td>07:28:28</td>\n",
       "      <td>1484206108</td>\n",
       "      <td>13317.658</td>\n",
       "      <td>4514.992</td>\n",
       "      <td>0</td>\n",
       "      <td>4177.2</td>\n",
       "      <td>2017</td>\n",
       "    </tr>\n",
       "    <tr>\n",
       "      <th>95502</th>\n",
       "      <td>2017-01-12</td>\n",
       "      <td>07:28:38</td>\n",
       "      <td>1484206118</td>\n",
       "      <td>13317.658</td>\n",
       "      <td>4514.992</td>\n",
       "      <td>0</td>\n",
       "      <td>4177.2</td>\n",
       "      <td>2017</td>\n",
       "    </tr>\n",
       "    <tr>\n",
       "      <th>95503</th>\n",
       "      <td>2017-01-12</td>\n",
       "      <td>07:28:48</td>\n",
       "      <td>1484206128</td>\n",
       "      <td>13317.659</td>\n",
       "      <td>4514.992</td>\n",
       "      <td>0</td>\n",
       "      <td>4177.2</td>\n",
       "      <td>2017</td>\n",
       "    </tr>\n",
       "    <tr>\n",
       "      <th>95504</th>\n",
       "      <td>2017-01-12</td>\n",
       "      <td>07:28:58</td>\n",
       "      <td>1484206138</td>\n",
       "      <td>13317.660</td>\n",
       "      <td>4514.992</td>\n",
       "      <td>0</td>\n",
       "      <td>4177.2</td>\n",
       "      <td>2017</td>\n",
       "    </tr>\n",
       "    <tr>\n",
       "      <th>...</th>\n",
       "      <td>...</td>\n",
       "      <td>...</td>\n",
       "      <td>...</td>\n",
       "      <td>...</td>\n",
       "      <td>...</td>\n",
       "      <td>...</td>\n",
       "      <td>...</td>\n",
       "      <td>...</td>\n",
       "    </tr>\n",
       "    <tr>\n",
       "      <th>955995</th>\n",
       "      <td>2017-05-20</td>\n",
       "      <td>12:53:37</td>\n",
       "      <td>1495281217</td>\n",
       "      <td>14703.176</td>\n",
       "      <td>5078.600</td>\n",
       "      <td>671</td>\n",
       "      <td>5135.3</td>\n",
       "      <td>2017</td>\n",
       "    </tr>\n",
       "    <tr>\n",
       "      <th>955996</th>\n",
       "      <td>2017-05-20</td>\n",
       "      <td>12:53:47</td>\n",
       "      <td>1495281227</td>\n",
       "      <td>14703.176</td>\n",
       "      <td>5078.601</td>\n",
       "      <td>671</td>\n",
       "      <td>5135.3</td>\n",
       "      <td>2017</td>\n",
       "    </tr>\n",
       "    <tr>\n",
       "      <th>955997</th>\n",
       "      <td>2017-05-20</td>\n",
       "      <td>12:53:57</td>\n",
       "      <td>1495281237</td>\n",
       "      <td>14703.176</td>\n",
       "      <td>5078.601</td>\n",
       "      <td>671</td>\n",
       "      <td>5135.3</td>\n",
       "      <td>2017</td>\n",
       "    </tr>\n",
       "    <tr>\n",
       "      <th>955998</th>\n",
       "      <td>2017-05-20</td>\n",
       "      <td>12:54:07</td>\n",
       "      <td>1495281247</td>\n",
       "      <td>14703.176</td>\n",
       "      <td>5078.602</td>\n",
       "      <td>671</td>\n",
       "      <td>5135.3</td>\n",
       "      <td>2017</td>\n",
       "    </tr>\n",
       "    <tr>\n",
       "      <th>955999</th>\n",
       "      <td>2017-05-20</td>\n",
       "      <td>12:54:17</td>\n",
       "      <td>1495281257</td>\n",
       "      <td>14703.176</td>\n",
       "      <td>5078.603</td>\n",
       "      <td>671</td>\n",
       "      <td>5135.3</td>\n",
       "      <td>2017</td>\n",
       "    </tr>\n",
       "  </tbody>\n",
       "</table>\n",
       "<p>860500 rows × 8 columns</p>\n",
       "</div>"
      ],
      "text/plain": [
       "              date       time     seconds  total_consumption  \\\n",
       "95500   2017-01-12   07:28:18  1484206098          13317.657   \n",
       "95501   2017-01-12   07:28:28  1484206108          13317.658   \n",
       "95502   2017-01-12   07:28:38  1484206118          13317.658   \n",
       "95503   2017-01-12   07:28:48  1484206128          13317.659   \n",
       "95504   2017-01-12   07:28:58  1484206138          13317.660   \n",
       "...            ...        ...         ...                ...   \n",
       "955995  2017-05-20   12:53:37  1495281217          14703.176   \n",
       "955996  2017-05-20   12:53:47  1495281227          14703.176   \n",
       "955997  2017-05-20   12:53:57  1495281237          14703.176   \n",
       "955998  2017-05-20   12:54:07  1495281247          14703.176   \n",
       "955999  2017-05-20   12:54:17  1495281257          14703.176   \n",
       "\n",
       "        total_production solar_production  total_solar_production  year  \n",
       "95500           4514.992                0                  4177.2  2017  \n",
       "95501           4514.992                0                  4177.2  2017  \n",
       "95502           4514.992                0                  4177.2  2017  \n",
       "95503           4514.992                0                  4177.2  2017  \n",
       "95504           4514.992                0                  4177.2  2017  \n",
       "...                  ...              ...                     ...   ...  \n",
       "955995          5078.600              671                  5135.3  2017  \n",
       "955996          5078.601              671                  5135.3  2017  \n",
       "955997          5078.601              671                  5135.3  2017  \n",
       "955998          5078.602              671                  5135.3  2017  \n",
       "955999          5078.603              671                  5135.3  2017  \n",
       "\n",
       "[860500 rows x 8 columns]"
      ]
     },
     "execution_count": 5,
     "metadata": {},
     "output_type": "execute_result"
    }
   ],
   "source": [
    "# Add an offset of 1 hour to seconds\n",
    "raw_energy[\"seconds\"] += 3600\n",
    "raw_energy[95500:956000]"
   ]
  },
  {
   "cell_type": "code",
   "execution_count": 6,
   "metadata": {},
   "outputs": [
    {
     "data": {
      "text/html": [
       "<div>\n",
       "<style scoped>\n",
       "    .dataframe tbody tr th:only-of-type {\n",
       "        vertical-align: middle;\n",
       "    }\n",
       "\n",
       "    .dataframe tbody tr th {\n",
       "        vertical-align: top;\n",
       "    }\n",
       "\n",
       "    .dataframe thead th {\n",
       "        text-align: right;\n",
       "    }\n",
       "</style>\n",
       "<table border=\"1\" class=\"dataframe\">\n",
       "  <thead>\n",
       "    <tr style=\"text-align: right;\">\n",
       "      <th></th>\n",
       "      <th>time</th>\n",
       "      <th>clouds</th>\n",
       "      <th>temperature</th>\n",
       "      <th>humidity</th>\n",
       "      <th>wind direction</th>\n",
       "      <th>wind speed</th>\n",
       "      <th>visibility</th>\n",
       "      <th>air pressure</th>\n",
       "      <th>year</th>\n",
       "    </tr>\n",
       "  </thead>\n",
       "  <tbody>\n",
       "    <tr>\n",
       "      <th>0</th>\n",
       "      <td>2017-01-01T00:00:00Z</td>\n",
       "      <td>3.0</td>\n",
       "      <td>-1.7</td>\n",
       "      <td>99.0</td>\n",
       "      <td>ZZW</td>\n",
       "      <td>3.0</td>\n",
       "      <td>197.0</td>\n",
       "      <td>1026.0</td>\n",
       "      <td>2017</td>\n",
       "    </tr>\n",
       "    <tr>\n",
       "      <th>1</th>\n",
       "      <td>2017-01-01T00:10:00Z</td>\n",
       "      <td>3.0</td>\n",
       "      <td>-1.7</td>\n",
       "      <td>99.0</td>\n",
       "      <td>ZZW</td>\n",
       "      <td>3.0</td>\n",
       "      <td>195.0</td>\n",
       "      <td>1025.8</td>\n",
       "      <td>2017</td>\n",
       "    </tr>\n",
       "    <tr>\n",
       "      <th>2</th>\n",
       "      <td>2017-01-01T00:20:00Z</td>\n",
       "      <td>3.0</td>\n",
       "      <td>-1.7</td>\n",
       "      <td>99.0</td>\n",
       "      <td>ZZW</td>\n",
       "      <td>3.0</td>\n",
       "      <td>271.0</td>\n",
       "      <td>1025.6</td>\n",
       "      <td>2017</td>\n",
       "    </tr>\n",
       "    <tr>\n",
       "      <th>3</th>\n",
       "      <td>2017-01-01T00:30:00Z</td>\n",
       "      <td>3.0</td>\n",
       "      <td>-1.6</td>\n",
       "      <td>99.0</td>\n",
       "      <td>Z</td>\n",
       "      <td>3.0</td>\n",
       "      <td>316.0</td>\n",
       "      <td>1025.4</td>\n",
       "      <td>2017</td>\n",
       "    </tr>\n",
       "    <tr>\n",
       "      <th>4</th>\n",
       "      <td>2017-01-01T00:40:00Z</td>\n",
       "      <td>3.0</td>\n",
       "      <td>-1.6</td>\n",
       "      <td>99.0</td>\n",
       "      <td>Z</td>\n",
       "      <td>3.0</td>\n",
       "      <td>334.0</td>\n",
       "      <td>1025.3</td>\n",
       "      <td>2017</td>\n",
       "    </tr>\n",
       "  </tbody>\n",
       "</table>\n",
       "</div>"
      ],
      "text/plain": [
       "                   time  clouds  temperature  humidity wind direction  \\\n",
       "0  2017-01-01T00:00:00Z     3.0         -1.7      99.0            ZZW   \n",
       "1  2017-01-01T00:10:00Z     3.0         -1.7      99.0            ZZW   \n",
       "2  2017-01-01T00:20:00Z     3.0         -1.7      99.0            ZZW   \n",
       "3  2017-01-01T00:30:00Z     3.0         -1.6      99.0              Z   \n",
       "4  2017-01-01T00:40:00Z     3.0         -1.6      99.0              Z   \n",
       "\n",
       "   wind speed  visibility  air pressure  year  \n",
       "0         3.0       197.0        1026.0  2017  \n",
       "1         3.0       195.0        1025.8  2017  \n",
       "2         3.0       271.0        1025.6  2017  \n",
       "3         3.0       316.0        1025.4  2017  \n",
       "4         3.0       334.0        1025.3  2017  "
      ]
     },
     "execution_count": 6,
     "metadata": {},
     "output_type": "execute_result"
    }
   ],
   "source": [
    "raw_weather = pd.read_csv(\"weather_171819.csv\")\n",
    "raw_weather.head()"
   ]
  },
  {
   "cell_type": "markdown",
   "metadata": {},
   "source": [
    "When analysing data it is important to understand its semantics. In IoT one needs to be extra careful, especially when integrating data from various sources. The very basic information are the units of the measurements, but also the specifications of the sensors gathering the data and the processes that are being monitored. For example, in this case the specification of the solar panel installation states that it can generate max 153k Jouls per minute.  \n",
    "\n",
    "Assume the following for the energy data:\n",
    "- `seconds` is the time the sample was recorded (UTC) as an epoch timestamp\n",
    "- `total_consumption` is the total amount of electricity that was pulled from the grid (kWh)\n",
    "- `total_production` is the total amount of electricity that was pushed into the grid (kWh)\n",
    "- `solar_production` is the amount of eletricity that was produced since the last sample (Wh).\n",
    "- `total_solar_production` is the total amount of electricity produced by the solar panels (kWh)\n",
    "\n",
    "Assume the following for the weather data:\n",
    "- `time` is the time the sample was recorded (UTC)\n",
    "- `clouds` measures whether it was cloudy at the time when the sample was taken, ranging from 0-3, 0 meaning no clouds and 3 meaning very cloudy.\n",
    "- `temperature` is the still temperature (C).\n",
    "- `wind direction` given in South (Z), West (W), North (N), and (East), or a combination thereof.\n",
    "- `wind speed` in m/s. \n",
    "- `visibility` in meters.\n",
    "- `air pressure` in hPa."
   ]
  },
  {
   "cell_type": "markdown",
   "metadata": {},
   "source": [
    "### Explore the data\n",
    "\n",
    "Exploration is usually the first step in any data analysis task. Visualization is an important tool for exploring the data. It gives insights into the structure and semantics of the data and indications for how to clean it.\n",
    "\n",
    "The `matplotlib` library provides a collection of useful plots, such as a line plot, scatter plot, histogram, scatter mattrix, etc. You can find out more about this library at \n",
    "\n",
    "- https://matplotlib.org/users/pyplot_tutorial.html\n",
    "- https://matplotlib.org/devdocs/gallery/\n",
    "\n",
    "The `pandas` library also contains convenient wrappers around the `matplotlib` library for visualizing data frames and series:\n",
    "\n",
    "- https://pandas.pydata.org/pandas-docs/stable/visualization.html\n",
    "\n",
    "Let's draw a simple plot of the energy data (note that we're only plotting a small part of the data here):"
   ]
  },
  {
   "cell_type": "code",
   "execution_count": 7,
   "metadata": {},
   "outputs": [
    {
     "data": {
      "text/plain": [
       "(1483228802.0, 1486900372.0, 4147.1, 4280.8)"
      ]
     },
     "execution_count": 7,
     "metadata": {},
     "output_type": "execute_result"
    },
    {
     "data": {
      "image/png": "[encoded data removed]",
      "text/plain": [
       "<Figure size 1008x648 with 1 Axes>"
      ]
     },
     "metadata": {
      "needs_background": "light"
     },
     "output_type": "display_data"
    }
   ],
   "source": [
    "plt.rcParams[\"figure.figsize\"] = (14, 9) # (w, h)\n",
    "X = raw_energy[:300000][\"seconds\"]\n",
    "Y = raw_energy[:300000][\"total_solar_production\"]\n",
    "plt.plot(X, Y)\n",
    "plt.xlabel('Epoch time (s)')\n",
    "plt.ylabel('Total solar production (kWh)')\n",
    "plt.axis([X.min(), X.max(), Y.min(), Y.max()])"
   ]
  },
  {
   "cell_type": "code",
   "execution_count": 8,
   "metadata": {},
   "outputs": [],
   "source": [
    "# TODO: explore the values in different columns (experiment with different visualizations, e.g. line, histogram, ...)"
   ]
  },
  {
   "cell_type": "markdown",
   "metadata": {},
   "source": [
    "### Question 1\n",
    "\n",
    "Simple visual inspection of the data can already tell you a lot about what you are working with. The energy data covers 2017 , 2018, and 2019, but because the data was split sometime beforehand, some time ranges will be missing.\n",
    "\n",
    "Assign to `question_missing_months` in the form of a list the months that are missing from the energy data (for example, if June and July of 2017 are missing, the list would be `[\"2017-06\", \"2017-07\"]`). \n",
    "\n",
    "Not only are there months missing, each month that is in the energy data has some missing days as well. Assign to `question_num_missing_days` the number of days that is missing from each month.\n",
    "\n",
    "You will have to convert the timestamps in the data to retrieve the months and days. Note that the Netherlands is in timezone UTC+1."
   ]
  },
  {
   "cell_type": "code",
   "execution_count": 9,
   "metadata": {},
   "outputs": [
    {
     "name": "stdout",
     "output_type": "stream",
     "text": [
      "Missing months: ['2018-11', '2018-12', '2019-11', '2019-12'] \n",
      "\n",
      "Average number of missing days for each month: [6.0, 6.0, 6.0, 6.333333333333333, 6.0, 6.666666666666667, 8.666666666666666, 6.0, 6.0, 11.0, 22.0, 22.666666666666668]\n"
     ]
    }
   ],
   "source": [
    "#// BEGIN_TODO [Q1]\n",
    "\n",
    "#First we find the period from the data range of the first date to the last date recorded and we extract the unique months to initialize our list with zeros\n",
    "period = pd.date_range(start='2017-01-01', end='2019-12-31')\n",
    "months = period.strftime(\"%Y-%m\").unique().tolist()\n",
    "question_num_missing_all_days = [0]*len(months)\n",
    "\n",
    "#We find the days missing from our dataset, and we iterate to count the number of days each month is missing\n",
    "days_missing = period.difference(pd.to_datetime(raw_energy['date'])).strftime(\"%Y-%m\")\n",
    "for day in days_missing:\n",
    "    question_num_missing_all_days[months.index(day)] += 1\n",
    "\n",
    "# Missing months (depending on how many days each month has)\n",
    "question_missing_months = []\n",
    "for num, month in enumerate(months):\n",
    "    if question_num_missing_all_days[num] == pd.Period(month).days_in_month:\n",
    "        question_missing_months.append(month)\n",
    "print(\"Missing months:\",  question_missing_months, \"\\n\")\n",
    "\n",
    "# Missing days of each month\n",
    "question_num_missing_days = [0]*12\n",
    "for i,num in enumerate(range(0,12)):\n",
    "    question_num_missing_days[i] = (question_num_missing_all_days[i]+question_num_missing_all_days[i+12]+question_num_missing_all_days[i+24])/3\n",
    "print(\"Average number of missing days for each month:\", question_num_missing_days)\n",
    "\n",
    "#// END_TODO [Q1]"
   ]
  },
  {
   "cell_type": "markdown",
   "metadata": {},
   "source": [
    "### Clean the data\n",
    "\n",
    "Data cleaning is an important part of any data analysis task. According to the general wisdom, most effort actually is spent on data cleaning. It involves preparing the data for the following steps, e.g. converting values to the right type, filling in missing values, removing outliers, normalizing the data, etc.\n",
    "\n",
    "In the plot above you may have noticed vertical lines (you may have to plot a shorter time range to spot them). These lines correspond to 0 values and are likely to be measurement errors (e.g. the solar panel meter has crashed). Such outliers will often negatively impact the accuracy of the predictive model. However, care must be taken to properly define what constitutes an outlier and what constitutes a valid measurement. Some odd looking measurements may actually contain important evidence for proving or disproving a hypothesis. In this case the 0 values can be considered measurement errors and should be removed.\n",
    "\n",
    "Pandas provides convenient methods for selecting subsets of the data that can be used for removing outliers:\n",
    "\n",
    "- https://jakevdp.github.io/PythonDataScienceHandbook/03.02-data-indexing-and-selection.html"
   ]
  },
  {
   "cell_type": "code",
   "execution_count": 10,
   "metadata": {},
   "outputs": [],
   "source": [
    "# TODO: remove the samples with production total of 0\n",
    "# compute the indices that have to be dropped\n",
    "index = raw_energy.index\n",
    "cond = raw_energy.total_solar_production == 0 # condition of selection\n",
    "indices = index[cond].tolist() # select the rows\n",
    "raw_energy=raw_energy.drop(indices) # drop them"
   ]
  },
  {
   "cell_type": "markdown",
   "metadata": {},
   "source": [
    "Data that is collected in the wild will sometimes contain formatting inconsistencies. It is a good habit to check the data types:"
   ]
  },
  {
   "cell_type": "code",
   "execution_count": 11,
   "metadata": {},
   "outputs": [
    {
     "data": {
      "text/plain": [
       "date                       object\n",
       "time                       object\n",
       "seconds                     int64\n",
       "total_consumption         float64\n",
       "total_production          float64\n",
       "solar_production           object\n",
       "total_solar_production    float64\n",
       "year                        int64\n",
       "dtype: object"
      ]
     },
     "execution_count": 11,
     "metadata": {},
     "output_type": "execute_result"
    }
   ],
   "source": [
    "raw_energy.dtypes"
   ]
  },
  {
   "cell_type": "markdown",
   "metadata": {},
   "source": [
    "As expected, the `'total_consumption'`, `'total_production'`, `'total_solar_production'` columns are of numerical type, however, the `solar_production` is of an `object` type (which is also used for strings), while looking at the specification of the column above we would expect a numerical type. Modeling this column later will require a numerical column, so it will need to be converted to the right type first."
   ]
  },
  {
   "cell_type": "code",
   "execution_count": 12,
   "metadata": {},
   "outputs": [
    {
     "data": {
      "text/html": [
       "<div>\n",
       "<style scoped>\n",
       "    .dataframe tbody tr th:only-of-type {\n",
       "        vertical-align: middle;\n",
       "    }\n",
       "\n",
       "    .dataframe tbody tr th {\n",
       "        vertical-align: top;\n",
       "    }\n",
       "\n",
       "    .dataframe thead th {\n",
       "        text-align: right;\n",
       "    }\n",
       "</style>\n",
       "<table border=\"1\" class=\"dataframe\">\n",
       "  <thead>\n",
       "    <tr style=\"text-align: right;\">\n",
       "      <th></th>\n",
       "      <th>date</th>\n",
       "      <th>time</th>\n",
       "      <th>seconds</th>\n",
       "      <th>total_consumption</th>\n",
       "      <th>total_production</th>\n",
       "      <th>solar_production</th>\n",
       "      <th>total_solar_production</th>\n",
       "      <th>year</th>\n",
       "    </tr>\n",
       "  </thead>\n",
       "  <tbody>\n",
       "    <tr>\n",
       "      <th>719179</th>\n",
       "      <td>2017-04-16</td>\n",
       "      <td>03:10:42</td>\n",
       "      <td>1492308642</td>\n",
       "      <td>14353.808</td>\n",
       "      <td>4855.574</td>\n",
       "      <td></td>\n",
       "      <td>NaN</td>\n",
       "      <td>2017</td>\n",
       "    </tr>\n",
       "    <tr>\n",
       "      <th>719180</th>\n",
       "      <td>2017-04-16</td>\n",
       "      <td>03:10:52</td>\n",
       "      <td>1492308652</td>\n",
       "      <td>14353.809</td>\n",
       "      <td>4855.574</td>\n",
       "      <td></td>\n",
       "      <td>NaN</td>\n",
       "      <td>2017</td>\n",
       "    </tr>\n",
       "    <tr>\n",
       "      <th>719181</th>\n",
       "      <td>2017-04-16</td>\n",
       "      <td>03:11:02</td>\n",
       "      <td>1492308662</td>\n",
       "      <td>14353.809</td>\n",
       "      <td>4855.574</td>\n",
       "      <td></td>\n",
       "      <td>NaN</td>\n",
       "      <td>2017</td>\n",
       "    </tr>\n",
       "    <tr>\n",
       "      <th>719182</th>\n",
       "      <td>2017-04-16</td>\n",
       "      <td>03:11:12</td>\n",
       "      <td>1492308672</td>\n",
       "      <td>14353.810</td>\n",
       "      <td>4855.574</td>\n",
       "      <td></td>\n",
       "      <td>NaN</td>\n",
       "      <td>2017</td>\n",
       "    </tr>\n",
       "    <tr>\n",
       "      <th>719183</th>\n",
       "      <td>2017-04-16</td>\n",
       "      <td>03:11:22</td>\n",
       "      <td>1492308682</td>\n",
       "      <td>14353.811</td>\n",
       "      <td>4855.574</td>\n",
       "      <td></td>\n",
       "      <td>NaN</td>\n",
       "      <td>2017</td>\n",
       "    </tr>\n",
       "    <tr>\n",
       "      <th>...</th>\n",
       "      <td>...</td>\n",
       "      <td>...</td>\n",
       "      <td>...</td>\n",
       "      <td>...</td>\n",
       "      <td>...</td>\n",
       "      <td>...</td>\n",
       "      <td>...</td>\n",
       "      <td>...</td>\n",
       "    </tr>\n",
       "    <tr>\n",
       "      <th>5977081</th>\n",
       "      <td>2019-09-23</td>\n",
       "      <td>18:40:28</td>\n",
       "      <td>1569260428</td>\n",
       "      <td>23331.464</td>\n",
       "      <td>9304.453</td>\n",
       "      <td></td>\n",
       "      <td>NaN</td>\n",
       "      <td>2019</td>\n",
       "    </tr>\n",
       "    <tr>\n",
       "      <th>5977082</th>\n",
       "      <td>2019-09-23</td>\n",
       "      <td>18:40:38</td>\n",
       "      <td>1569260438</td>\n",
       "      <td>23331.465</td>\n",
       "      <td>9304.453</td>\n",
       "      <td></td>\n",
       "      <td>NaN</td>\n",
       "      <td>2019</td>\n",
       "    </tr>\n",
       "    <tr>\n",
       "      <th>5977083</th>\n",
       "      <td>2019-09-23</td>\n",
       "      <td>18:40:48</td>\n",
       "      <td>1569260448</td>\n",
       "      <td>23331.466</td>\n",
       "      <td>9304.453</td>\n",
       "      <td></td>\n",
       "      <td>NaN</td>\n",
       "      <td>2019</td>\n",
       "    </tr>\n",
       "    <tr>\n",
       "      <th>5977084</th>\n",
       "      <td>2019-09-23</td>\n",
       "      <td>18:40:58</td>\n",
       "      <td>1569260458</td>\n",
       "      <td>23331.466</td>\n",
       "      <td>9304.453</td>\n",
       "      <td></td>\n",
       "      <td>NaN</td>\n",
       "      <td>2019</td>\n",
       "    </tr>\n",
       "    <tr>\n",
       "      <th>5977085</th>\n",
       "      <td>2019-09-23</td>\n",
       "      <td>18:41:08</td>\n",
       "      <td>1569260468</td>\n",
       "      <td>23331.467</td>\n",
       "      <td>9304.453</td>\n",
       "      <td></td>\n",
       "      <td>NaN</td>\n",
       "      <td>2019</td>\n",
       "    </tr>\n",
       "  </tbody>\n",
       "</table>\n",
       "<p>36541 rows × 8 columns</p>\n",
       "</div>"
      ],
      "text/plain": [
       "               date       time     seconds  total_consumption  \\\n",
       "719179   2017-04-16   03:10:42  1492308642          14353.808   \n",
       "719180   2017-04-16   03:10:52  1492308652          14353.809   \n",
       "719181   2017-04-16   03:11:02  1492308662          14353.809   \n",
       "719182   2017-04-16   03:11:12  1492308672          14353.810   \n",
       "719183   2017-04-16   03:11:22  1492308682          14353.811   \n",
       "...             ...        ...         ...                ...   \n",
       "5977081  2019-09-23   18:40:28  1569260428          23331.464   \n",
       "5977082  2019-09-23   18:40:38  1569260438          23331.465   \n",
       "5977083  2019-09-23   18:40:48  1569260448          23331.466   \n",
       "5977084  2019-09-23   18:40:58  1569260458          23331.466   \n",
       "5977085  2019-09-23   18:41:08  1569260468          23331.467   \n",
       "\n",
       "         total_production solar_production  total_solar_production  year  \n",
       "719179           4855.574                                      NaN  2017  \n",
       "719180           4855.574                                      NaN  2017  \n",
       "719181           4855.574                                      NaN  2017  \n",
       "719182           4855.574                                      NaN  2017  \n",
       "719183           4855.574                                      NaN  2017  \n",
       "...                   ...              ...                     ...   ...  \n",
       "5977081          9304.453                                      NaN  2019  \n",
       "5977082          9304.453                                      NaN  2019  \n",
       "5977083          9304.453                                      NaN  2019  \n",
       "5977084          9304.453                                      NaN  2019  \n",
       "5977085          9304.453                                      NaN  2019  \n",
       "\n",
       "[36541 rows x 8 columns]"
      ]
     },
     "execution_count": 12,
     "metadata": {},
     "output_type": "execute_result"
    }
   ],
   "source": [
    "# TODO: explore the offending values in the solar_production column\n",
    "raw_energy[pd.to_numeric(raw_energy.solar_production, errors='coerce').isnull()]"
   ]
  },
  {
   "cell_type": "markdown",
   "metadata": {},
   "source": [
    "### Question 2\n",
    "\n",
    "Convert empty strings in the `'solar_production'` column to `np.nan`. Convert the remaining values in the `'solar_production'` column to `float` type, and copy the resulting column to a variable named `solar_production_column`."
   ]
  },
  {
   "cell_type": "code",
   "execution_count": 13,
   "metadata": {},
   "outputs": [],
   "source": [
    "#// BEGIN_TODO [Q2]\n",
    "raw_energy['solar_production'] = raw_energy['solar_production'].replace({'':np.nan})\n",
    "raw_energy['solar_production'] = pd.to_numeric(raw_energy['solar_production'], errors='coerce')\n",
    "solar_production_column = raw_energy['solar_production']\n",
    "#// END_TODO [Q2]"
   ]
  },
  {
   "cell_type": "markdown",
   "metadata": {},
   "source": [
    "### Engineer features\n",
    "\n",
    "The goal of this assignment is to predict the hourly energy output of the solar panels given the weather forecast. This requires to relate the energy samples with the weather samples, basically attaching the energy production label to the weather measurements. However, the *total* energy and weather samples are taken approximately every 10 seconds and 10 minutes, respectively.\n",
    "\n",
    "####  Aggregate per hour\n",
    "\n",
    "We can use pandas grouping functions to aggregate the samples per hour, taking the largest  measurement in that hour."
   ]
  },
  {
   "cell_type": "code",
   "execution_count": 14,
   "metadata": {},
   "outputs": [],
   "source": [
    "col = \"total_solar_production\"\n",
    "energy = raw_energy.copy()\n",
    "times = pd.to_datetime(energy[\"seconds\"], unit='s')\n",
    "\n",
    "energy = energy.groupby([times.dt.year, times.dt.month, times.dt.dayofyear, times.dt.hour])[[col]].agg(np.max)\n",
    "energy.index.names = [\"year\", \"month\", \"day\", \"hour\"]"
   ]
  },
  {
   "cell_type": "markdown",
   "metadata": {},
   "source": [
    "### Question 3 ###\n",
    "\n",
    "Note that the hourly aggregation using the maximum works well for columns containing the totals. Does it also work for the `'solar_production'` column?\n",
    "\n",
    "1. Yes, but the aggregation method needs to be changed to fit the solar_production data type\n",
    "2. Yes, the same aggregation method can be applied\n",
    "3. No, it's not possible to aggegrate over the solar_production field\n",
    "4. No, aggregating over the solar_production field in any way does not make sense.\n",
    "5. None of the above.\n",
    "\n",
    "Assign an integer corresponding to the correct answer to variable `question_aggregation`."
   ]
  },
  {
   "cell_type": "code",
   "execution_count": 15,
   "metadata": {},
   "outputs": [
    {
     "name": "stdout",
     "output_type": "stream",
     "text": [
      "                     total_solar_production  production\n",
      "year month day hour                                    \n",
      "2018 7     185 14                    8615.1         1.2\n",
      "               15                    8616.3         1.2\n",
      "               16                    8617.1         0.8\n",
      "               17                    8617.6         0.5\n",
      "               18                    8617.9         0.3\n",
      "               19                    8618.0         0.1\n",
      "               20                    8618.1         0.1\n",
      "               21                    8618.1         0.0\n",
      "               22                    8618.1         0.0\n",
      "               23                    8618.1         0.0\n",
      "                     solar_production\n",
      "year month day hour                  \n",
      "2018 7     185 14         1266.672222\n",
      "               15         1107.532033\n",
      "               16          803.311111\n",
      "               17          559.440443\n",
      "               18          233.653740\n",
      "               19          135.952778\n",
      "               20           76.233333\n",
      "               21            4.638889\n",
      "               22            0.000000\n",
      "               23            0.000000\n"
     ]
    }
   ],
   "source": [
    "#// BEGIN_TODO [Q3]\n",
    "question_aggregation = 1\n",
    "\n",
    "#Using np.mean instead, we get a very close result to the one given by taking the difference between the previous sample in total_solar_production\n",
    "#Dont forget, solar_production is in Wh, and total_solar_production in KWh\n",
    "col2 = \"solar_production\"\n",
    "solar_energy = raw_energy.copy()\n",
    "times = pd.to_datetime(solar_energy[\"seconds\"], unit='s')\n",
    "\n",
    "solar_energy = solar_energy.groupby([times.dt.year, times.dt.month, times.dt.dayofyear, times.dt.hour])[[col2]].agg(np.mean)\n",
    "solar_energy.index.names = [\"year\", \"month\", \"day\", \"hour\"]\n",
    "test = energy.copy()\n",
    "test[\"production\"] = test[col] - test[col].shift(1)\n",
    "print(test[10000:10010])\n",
    "print(solar_energy[10000:10010])\n",
    "#// END_TODO [Q3]"
   ]
  },
  {
   "cell_type": "markdown",
   "metadata": {},
   "source": [
    "After aggregation, some cells can contain `Nan` values (e.g. when trying to compute a maximum for an hour during which no samples were recorded). Therefore, after performing such operations one should decide what to do with any NaN values. In this case we chose to remove such samples."
   ]
  },
  {
   "cell_type": "code",
   "execution_count": 16,
   "metadata": {},
   "outputs": [],
   "source": [
    "energy = energy.dropna()"
   ]
  },
  {
   "cell_type": "markdown",
   "metadata": {},
   "source": [
    "After grouping, merging and slicing operations, the index of a data frame might need to be recomputed, to reflect the new ordering of rows."
   ]
  },
  {
   "cell_type": "code",
   "execution_count": 17,
   "metadata": {},
   "outputs": [
    {
     "data": {
      "text/plain": [
       "85145"
      ]
     },
     "execution_count": 17,
     "metadata": {},
     "output_type": "execute_result"
    }
   ],
   "source": [
    "energy = energy.reset_index()\n",
    "energy.size"
   ]
  },
  {
   "cell_type": "markdown",
   "metadata": {},
   "source": [
    "#### Compute the hourly production\n",
    "\n",
    "We are interested in predicting the solar panel output in a given hour. However, the `'total_solar_production'` column in the energy data frame at this point contains the total solar panel output until the end of that hour. Assuming that the data set contains a sample for every hour, i.e. there are no gaps, the hourly output can be compouted by taking the difference between the previous sample."
   ]
  },
  {
   "cell_type": "code",
   "execution_count": 18,
   "metadata": {},
   "outputs": [
    {
     "data": {
      "text/plain": [
       "119196"
      ]
     },
     "execution_count": 18,
     "metadata": {},
     "output_type": "execute_result"
    }
   ],
   "source": [
    "energy[\"production\"] = energy[col] - energy[col].shift(1)\n",
    "energy.loc[np.isnan(energy.production)]\n",
    "energy = energy.dropna().reset_index()\n",
    "energy.size"
   ]
  },
  {
   "cell_type": "markdown",
   "metadata": {},
   "source": [
    "### Question 4 ###\n",
    "\n",
    "After creating the production column there are NaNs in the data. Where do they come from, and why is the index recomputed?\n",
    "\n",
    "1. The NaN values are caused by missing values in the original data due to sensor errors, and the index is reset because a column has been added.\n",
    "2. The NaN values are caused by missing values in the original data due to the way the column is calculated, and the index is reset because a column has been added.\n",
    "3. The NaN values are caused by missing values in the original data due to sensor errors, and the index is reset because the number of rows has changed.\n",
    "4. The NaN values are caused by missing values in the original data due to the way the column is calculated, and the index is reset because the number of rows has changed.\n",
    "\n",
    "Assign the integer corresponding to the correct answer to the variable `question_production`."
   ]
  },
  {
   "cell_type": "code",
   "execution_count": 19,
   "metadata": {},
   "outputs": [],
   "source": [
    "#// BEGIN_TODO [Q4]\n",
    "question_production = 4\n",
    "#the NaN appear when you try to subtract a value that does not exist(for the first row there is no previous row)\n",
    "#because we removed the first row, now the index number starts from 1, while it should start from 0. Resetting index is always used when removing rows. \n",
    "#// END_TODO [Q4]"
   ]
  },
  {
   "cell_type": "markdown",
   "metadata": {},
   "source": [
    "Now we can perform a similar aggregation for the `clouds` column in the weather data. Note that rather than choosing the maximum, we take the average `clouds` value per hour."
   ]
  },
  {
   "cell_type": "code",
   "execution_count": 20,
   "metadata": {},
   "outputs": [],
   "source": [
    "weather = raw_weather.copy()\n",
    "times = pd.to_datetime(weather[\"time\"])\n",
    "weather = weather.groupby([times.dt.year, times.dt.month, times.dt.dayofyear, times.dt.hour])[\"clouds\"].agg(np.mean)\n",
    "weather.index.names = [\"year\", \"month\", \"day\", \"hour\"]\n",
    "weather = weather.reset_index()"
   ]
  },
  {
   "cell_type": "markdown",
   "metadata": {},
   "source": [
    "#### Merge the data frames\n",
    "\n",
    "Now that both data frames are expressed in terms of hours and the energy data frame contains the hourly solar panel output, we can use pandas to merge them.\n",
    "\n",
    "**Important:** when dealing with times in data from various sources one must be very carefull about the semantics of the time, such as the time-zone or the daylight-saving. Luckily, in this assignment both energy and weather data use UTC time, so no extra preprocessing is required."
   ]
  },
  {
   "cell_type": "code",
   "execution_count": 21,
   "metadata": {},
   "outputs": [
    {
     "data": {
      "text/html": [
       "<div>\n",
       "<style scoped>\n",
       "    .dataframe tbody tr th:only-of-type {\n",
       "        vertical-align: middle;\n",
       "    }\n",
       "\n",
       "    .dataframe tbody tr th {\n",
       "        vertical-align: top;\n",
       "    }\n",
       "\n",
       "    .dataframe thead th {\n",
       "        text-align: right;\n",
       "    }\n",
       "</style>\n",
       "<table border=\"1\" class=\"dataframe\">\n",
       "  <thead>\n",
       "    <tr style=\"text-align: right;\">\n",
       "      <th></th>\n",
       "      <th>index</th>\n",
       "      <th>year</th>\n",
       "      <th>month</th>\n",
       "      <th>day</th>\n",
       "      <th>hour</th>\n",
       "      <th>total_solar_production</th>\n",
       "      <th>production</th>\n",
       "      <th>clouds</th>\n",
       "    </tr>\n",
       "  </thead>\n",
       "  <tbody>\n",
       "    <tr>\n",
       "      <th>0</th>\n",
       "      <td>1</td>\n",
       "      <td>2017</td>\n",
       "      <td>1</td>\n",
       "      <td>1</td>\n",
       "      <td>1</td>\n",
       "      <td>4147.1</td>\n",
       "      <td>0.0</td>\n",
       "      <td>3.0</td>\n",
       "    </tr>\n",
       "    <tr>\n",
       "      <th>1</th>\n",
       "      <td>2</td>\n",
       "      <td>2017</td>\n",
       "      <td>1</td>\n",
       "      <td>1</td>\n",
       "      <td>2</td>\n",
       "      <td>4147.1</td>\n",
       "      <td>0.0</td>\n",
       "      <td>3.0</td>\n",
       "    </tr>\n",
       "    <tr>\n",
       "      <th>2</th>\n",
       "      <td>3</td>\n",
       "      <td>2017</td>\n",
       "      <td>1</td>\n",
       "      <td>1</td>\n",
       "      <td>3</td>\n",
       "      <td>4147.1</td>\n",
       "      <td>0.0</td>\n",
       "      <td>3.0</td>\n",
       "    </tr>\n",
       "    <tr>\n",
       "      <th>3</th>\n",
       "      <td>4</td>\n",
       "      <td>2017</td>\n",
       "      <td>1</td>\n",
       "      <td>1</td>\n",
       "      <td>4</td>\n",
       "      <td>4147.1</td>\n",
       "      <td>0.0</td>\n",
       "      <td>3.0</td>\n",
       "    </tr>\n",
       "    <tr>\n",
       "      <th>4</th>\n",
       "      <td>5</td>\n",
       "      <td>2017</td>\n",
       "      <td>1</td>\n",
       "      <td>1</td>\n",
       "      <td>5</td>\n",
       "      <td>4147.1</td>\n",
       "      <td>0.0</td>\n",
       "      <td>3.0</td>\n",
       "    </tr>\n",
       "  </tbody>\n",
       "</table>\n",
       "</div>"
      ],
      "text/plain": [
       "   index  year  month  day  hour  total_solar_production  production  clouds\n",
       "0      1  2017      1    1     1                  4147.1         0.0     3.0\n",
       "1      2  2017      1    1     2                  4147.1         0.0     3.0\n",
       "2      3  2017      1    1     3                  4147.1         0.0     3.0\n",
       "3      4  2017      1    1     4                  4147.1         0.0     3.0\n",
       "4      5  2017      1    1     5                  4147.1         0.0     3.0"
      ]
     },
     "execution_count": 21,
     "metadata": {},
     "output_type": "execute_result"
    }
   ],
   "source": [
    "data = pd.merge(energy, weather).dropna().reset_index(drop=True)\n",
    "data.head()"
   ]
  },
  {
   "cell_type": "markdown",
   "metadata": {},
   "source": [
    "#### Explore the engineered features\n",
    "\n",
    "After engineering features it is a good idea to explore the data set again, to see if extra cleaning is required."
   ]
  },
  {
   "cell_type": "code",
   "execution_count": 22,
   "metadata": {
    "scrolled": true
   },
   "outputs": [
    {
     "name": "stdout",
     "output_type": "stream",
     "text": [
      "0.0 134.20000000000073\n"
     ]
    },
    {
     "data": {
      "image/png": "[encoded data removed]",
      "text/plain": [
       "<Figure size 720x144 with 1 Axes>"
      ]
     },
     "metadata": {
      "needs_background": "light"
     },
     "output_type": "display_data"
    }
   ],
   "source": [
    "values = data[\"production\"].values\n",
    "plt.figure(figsize=(10, 2))\n",
    "plt.hist(values, 50);\n",
    "plt.xlabel('Production (kWh)')\n",
    "plt.ylabel('Frequency')\n",
    "print (min(values), max(values))"
   ]
  },
  {
   "cell_type": "markdown",
   "metadata": {},
   "source": [
    "The small variance of the values and their large range suggests there are some outliers. This can be also visualized in a different way."
   ]
  },
  {
   "cell_type": "code",
   "execution_count": 23,
   "metadata": {},
   "outputs": [
    {
     "data": {
      "image/png": "[encoded data removed]",
      "text/plain": [
       "<Figure size 720x216 with 1 Axes>"
      ]
     },
     "metadata": {
      "needs_background": "light"
     },
     "output_type": "display_data"
    }
   ],
   "source": [
    "def plot(df, col):\n",
    "    x = df[\"day\"]\n",
    "    plt.figure(figsize=(10,3))\n",
    "    plt.plot(x, df[col], 'bo', markersize=1)\n",
    "    plt.xlabel('Day')\n",
    "    plt.ylabel(col)\n",
    "\n",
    "plot(data, \"production\")"
   ]
  },
  {
   "cell_type": "markdown",
   "metadata": {},
   "source": [
    "The figure suggests that there are indeed outliers in the energy production data."
   ]
  },
  {
   "cell_type": "markdown",
   "metadata": {},
   "source": [
    "### Question 5\n",
    "\n",
    "The plot shows some outliers. How do you explain these? Note that there may be more than one correct anwser.\n",
    "\n",
    "1. There is actually an oversight in the previous calculations which causes the outliers.\n",
    "2. There is some unclean data present due to sensor errors.\n",
    "3. There were some very clear and sunny days.\n",
    "4. The outliers represent multiple days of production.\n",
    "\n",
    "Assign the integer(s) corresponding to the correct answer(s) as a list to the variable `question_outliers`."
   ]
  },
  {
   "cell_type": "code",
   "execution_count": 24,
   "metadata": {},
   "outputs": [],
   "source": [
    "#// BEGIN_TODO [Q5]\n",
    "'''\n",
    "1+2. Because we removed some rows of our original dataset, which had total_production==0, due to sensor errors, there are gaps on some\n",
    "days, causing some production values (calculations with previous total_solar_production value) to be greater than the average\n",
    "3. Some small outliers, e.g 2-3, are due to very clear and sunny days\n",
    "'''\n",
    "question_outliers=[1, 2, 4]\n",
    "#// END_TODO [Q5]"
   ]
  },
  {
   "cell_type": "markdown",
   "metadata": {},
   "source": [
    "Note that when removing the energy samples containing 0 values in `raw_energy` earlier, it was clear how to define an outlier. In this case, however, one must carefully decide how to define an outlier, to avoid introducing bias. You can read more about outlier detection here:\n",
    "\n",
    "- Section 3.3.3 of \"Introduction to Statistical Learning\"\n",
    "- http://scikit-learn.org/stable/modules/outlier_detection.html"
   ]
  },
  {
   "cell_type": "markdown",
   "metadata": {},
   "source": [
    "### Question 6\n",
    "\n",
    "How do you best define an outlier for this data set?\n",
    "\n",
    "1. Calculate the average production, and define an outlier based on standard deviations.\n",
    "2. Build a model for the expected production, and label outliers based on the model predictions.\n",
    "3. Set a fixed threshold for outliers based on the characteristics of the solar panels.\n",
    "4. Estimate a fixed threshold for outliers by hand based on the above plot.\n",
    "\n",
    "Assign an integer corresponding to the correct answer to variable `question_outlier_definition`."
   ]
  },
  {
   "cell_type": "code",
   "execution_count": 25,
   "metadata": {},
   "outputs": [],
   "source": [
    "#// BEGIN_TODO [Q6]\n",
    "question_outlier_definition=3\n",
    "#// END_TODO [Q6]"
   ]
  },
  {
   "cell_type": "markdown",
   "metadata": {},
   "source": [
    "### Question 7\n",
    "\n",
    "Remove the outliers from the `data` data frame. Assign the resulting data frame to variable `data_no_outliers`. "
   ]
  },
  {
   "cell_type": "code",
   "execution_count": 26,
   "metadata": {},
   "outputs": [],
   "source": [
    "# TODO: remove outliers"
   ]
  },
  {
   "cell_type": "code",
   "execution_count": 27,
   "metadata": {},
   "outputs": [],
   "source": [
    "#// BEGIN_TODO [Q7]\n",
    "\n",
    "# 153k Joules, is 2550 Wh, so we will use that as our threshold\n",
    "\n",
    "mask = data.production <= 2.55\n",
    "column_name = 'production'\n",
    "data_no_outliers = data.loc[mask] # these are the good values\n",
    "\n",
    "#// END_TODO [Q7]"
   ]
  },
  {
   "cell_type": "code",
   "execution_count": 28,
   "metadata": {},
   "outputs": [
    {
     "data": {
      "image/png": "[encoded data removed]",
      "text/plain": [
       "<Figure size 720x216 with 1 Axes>"
      ]
     },
     "metadata": {
      "needs_background": "light"
     },
     "output_type": "display_data"
    }
   ],
   "source": [
    "def plot(df, col):\n",
    "    x = df[\"day\"]\n",
    "    plt.figure(figsize=(10,3))\n",
    "    plt.plot(x, df[col], 'bo', markersize=1)\n",
    "    plt.xlabel('Day')\n",
    "    plt.ylabel(col)\n",
    "\n",
    "plot(data_no_outliers, \"production\")"
   ]
  },
  {
   "cell_type": "markdown",
   "metadata": {},
   "source": [
    "Data visualization is often helpful to check if the results of our data processing and analysis meet our expectations."
   ]
  },
  {
   "cell_type": "code",
   "execution_count": 29,
   "metadata": {},
   "outputs": [
    {
     "data": {
      "image/png": "[encoded data removed]",
      "text/plain": [
       "<Figure size 720x216 with 1 Axes>"
      ]
     },
     "metadata": {
      "needs_background": "light"
     },
     "output_type": "display_data"
    }
   ],
   "source": [
    "# TODO: plot the clouds feature\n",
    "plot(data_no_outliers, \"clouds\")"
   ]
  },
  {
   "cell_type": "markdown",
   "metadata": {},
   "source": [
    "### Question 8"
   ]
  },
  {
   "cell_type": "markdown",
   "metadata": {},
   "source": [
    "Now that the data has been cleaned and converted, let's take another look. Aggregate the months that are present in the training data, and determine which month of the year is on average the most productive in terms of solar production across the 3 years. Assign the integer corresponding to the month to `most_productive_month`."
   ]
  },
  {
   "cell_type": "code",
   "execution_count": 30,
   "metadata": {},
   "outputs": [
    {
     "data": {
      "text/html": [
       "<div>\n",
       "<style scoped>\n",
       "    .dataframe tbody tr th:only-of-type {\n",
       "        vertical-align: middle;\n",
       "    }\n",
       "\n",
       "    .dataframe tbody tr th {\n",
       "        vertical-align: top;\n",
       "    }\n",
       "\n",
       "    .dataframe thead th {\n",
       "        text-align: right;\n",
       "    }\n",
       "</style>\n",
       "<table border=\"1\" class=\"dataframe\">\n",
       "  <thead>\n",
       "    <tr style=\"text-align: right;\">\n",
       "      <th></th>\n",
       "      <th>index</th>\n",
       "      <th>year</th>\n",
       "      <th>day</th>\n",
       "      <th>hour</th>\n",
       "      <th>total_solar_production</th>\n",
       "      <th>production</th>\n",
       "      <th>clouds</th>\n",
       "    </tr>\n",
       "    <tr>\n",
       "      <th>month</th>\n",
       "      <th></th>\n",
       "      <th></th>\n",
       "      <th></th>\n",
       "      <th></th>\n",
       "      <th></th>\n",
       "      <th></th>\n",
       "      <th></th>\n",
       "    </tr>\n",
       "  </thead>\n",
       "  <tbody>\n",
       "    <tr>\n",
       "      <th>1</th>\n",
       "      <td>6263.028834</td>\n",
       "      <td>2017.969325</td>\n",
       "      <td>13.069325</td>\n",
       "      <td>11.623313</td>\n",
       "      <td>6961.843804</td>\n",
       "      <td>0.105399</td>\n",
       "      <td>2.375634</td>\n",
       "    </tr>\n",
       "    <tr>\n",
       "      <th>2</th>\n",
       "      <td>6986.908602</td>\n",
       "      <td>2018.002688</td>\n",
       "      <td>42.085349</td>\n",
       "      <td>11.575941</td>\n",
       "      <td>7151.660484</td>\n",
       "      <td>0.199731</td>\n",
       "      <td>1.963441</td>\n",
       "    </tr>\n",
       "    <tr>\n",
       "      <th>3</th>\n",
       "      <td>7417.657783</td>\n",
       "      <td>2017.986069</td>\n",
       "      <td>71.616596</td>\n",
       "      <td>11.529376</td>\n",
       "      <td>7286.499576</td>\n",
       "      <td>0.233434</td>\n",
       "      <td>2.286594</td>\n",
       "    </tr>\n",
       "    <tr>\n",
       "      <th>4</th>\n",
       "      <td>7973.015075</td>\n",
       "      <td>2017.986809</td>\n",
       "      <td>101.866206</td>\n",
       "      <td>11.524497</td>\n",
       "      <td>7562.711432</td>\n",
       "      <td>0.392023</td>\n",
       "      <td>1.755936</td>\n",
       "    </tr>\n",
       "    <tr>\n",
       "      <th>5</th>\n",
       "      <td>8607.878735</td>\n",
       "      <td>2017.999414</td>\n",
       "      <td>132.531342</td>\n",
       "      <td>11.487405</td>\n",
       "      <td>7953.889982</td>\n",
       "      <td>0.488987</td>\n",
       "      <td>1.816784</td>\n",
       "    </tr>\n",
       "    <tr>\n",
       "      <th>6</th>\n",
       "      <td>8873.665674</td>\n",
       "      <td>2017.956069</td>\n",
       "      <td>163.029784</td>\n",
       "      <td>11.555473</td>\n",
       "      <td>8217.649590</td>\n",
       "      <td>0.431348</td>\n",
       "      <td>1.823356</td>\n",
       "    </tr>\n",
       "    <tr>\n",
       "      <th>7</th>\n",
       "      <td>8768.731889</td>\n",
       "      <td>2017.840217</td>\n",
       "      <td>193.170616</td>\n",
       "      <td>11.522004</td>\n",
       "      <td>8273.321259</td>\n",
       "      <td>0.550643</td>\n",
       "      <td>1.527319</td>\n",
       "    </tr>\n",
       "    <tr>\n",
       "      <th>8</th>\n",
       "      <td>10284.631032</td>\n",
       "      <td>2018.015272</td>\n",
       "      <td>224.281613</td>\n",
       "      <td>11.368968</td>\n",
       "      <td>9143.974771</td>\n",
       "      <td>0.317532</td>\n",
       "      <td>1.775993</td>\n",
       "    </tr>\n",
       "    <tr>\n",
       "      <th>9</th>\n",
       "      <td>10792.375926</td>\n",
       "      <td>2018.009259</td>\n",
       "      <td>255.000617</td>\n",
       "      <td>11.369753</td>\n",
       "      <td>9425.597840</td>\n",
       "      <td>0.228395</td>\n",
       "      <td>1.874280</td>\n",
       "    </tr>\n",
       "    <tr>\n",
       "      <th>10</th>\n",
       "      <td>11141.466613</td>\n",
       "      <td>2018.007241</td>\n",
       "      <td>283.954143</td>\n",
       "      <td>11.405471</td>\n",
       "      <td>9606.897828</td>\n",
       "      <td>0.162108</td>\n",
       "      <td>2.307120</td>\n",
       "    </tr>\n",
       "    <tr>\n",
       "      <th>11</th>\n",
       "      <td>5798.500000</td>\n",
       "      <td>2017.000000</td>\n",
       "      <td>316.040000</td>\n",
       "      <td>11.540000</td>\n",
       "      <td>6858.536727</td>\n",
       "      <td>0.142182</td>\n",
       "      <td>2.313636</td>\n",
       "    </tr>\n",
       "    <tr>\n",
       "      <th>12</th>\n",
       "      <td>6309.000000</td>\n",
       "      <td>2017.000000</td>\n",
       "      <td>344.717345</td>\n",
       "      <td>11.417559</td>\n",
       "      <td>6918.190792</td>\n",
       "      <td>0.055460</td>\n",
       "      <td>2.760600</td>\n",
       "    </tr>\n",
       "  </tbody>\n",
       "</table>\n",
       "</div>"
      ],
      "text/plain": [
       "              index         year         day       hour  \\\n",
       "month                                                     \n",
       "1       6263.028834  2017.969325   13.069325  11.623313   \n",
       "2       6986.908602  2018.002688   42.085349  11.575941   \n",
       "3       7417.657783  2017.986069   71.616596  11.529376   \n",
       "4       7973.015075  2017.986809  101.866206  11.524497   \n",
       "5       8607.878735  2017.999414  132.531342  11.487405   \n",
       "6       8873.665674  2017.956069  163.029784  11.555473   \n",
       "7       8768.731889  2017.840217  193.170616  11.522004   \n",
       "8      10284.631032  2018.015272  224.281613  11.368968   \n",
       "9      10792.375926  2018.009259  255.000617  11.369753   \n",
       "10     11141.466613  2018.007241  283.954143  11.405471   \n",
       "11      5798.500000  2017.000000  316.040000  11.540000   \n",
       "12      6309.000000  2017.000000  344.717345  11.417559   \n",
       "\n",
       "       total_solar_production  production    clouds  \n",
       "month                                                \n",
       "1                 6961.843804    0.105399  2.375634  \n",
       "2                 7151.660484    0.199731  1.963441  \n",
       "3                 7286.499576    0.233434  2.286594  \n",
       "4                 7562.711432    0.392023  1.755936  \n",
       "5                 7953.889982    0.488987  1.816784  \n",
       "6                 8217.649590    0.431348  1.823356  \n",
       "7                 8273.321259    0.550643  1.527319  \n",
       "8                 9143.974771    0.317532  1.775993  \n",
       "9                 9425.597840    0.228395  1.874280  \n",
       "10                9606.897828    0.162108  2.307120  \n",
       "11                6858.536727    0.142182  2.313636  \n",
       "12                6918.190792    0.055460  2.760600  "
      ]
     },
     "execution_count": 30,
     "metadata": {},
     "output_type": "execute_result"
    }
   ],
   "source": [
    "#// BEGIN_TODO [Q8]\n",
    "most_productive_month = 7\n",
    "data_no_outliers.groupby([\"month\"]).agg(np.mean)\n",
    "#// END_TODO [Q8]"
   ]
  },
  {
   "cell_type": "markdown",
   "metadata": {},
   "source": [
    "### Train a model\n",
    "\n",
    "For training and evaluating the performance of a model we need to split the data into a training and a test."
   ]
  },
  {
   "cell_type": "code",
   "execution_count": 31,
   "metadata": {},
   "outputs": [],
   "source": [
    "X = data_no_outliers[[\"clouds\"]].values\n",
    "y = data_no_outliers[\"production\"].values\n",
    "X_train, X_test, y_train, y_test = train_test_split(X, y, test_size=0.2, random_state=42)"
   ]
  },
  {
   "cell_type": "code",
   "execution_count": 32,
   "metadata": {},
   "outputs": [
    {
     "data": {
      "text/plain": [
       "LinearRegression()"
      ]
     },
     "execution_count": 32,
     "metadata": {},
     "output_type": "execute_result"
    }
   ],
   "source": [
    "model = LinearRegression()\n",
    "model.fit(X_train, y_train)"
   ]
  },
  {
   "cell_type": "markdown",
   "metadata": {},
   "source": [
    "### Evaluate the model\n",
    "\n",
    "After a model is trained we would like to estimate how well it is performing, whether we can actually trust its predictions if it were deployed. Model performance can be estimated using various visualisations and statistics (see Section 3.1.3 of [ISLR])\n",
    "\n",
    "#### Model fit\n",
    "\n",
    "If the feature space is 1 or 2 dimensional, then we can easily plot the model to illustrate how well it fits the test data."
   ]
  },
  {
   "cell_type": "code",
   "execution_count": 33,
   "metadata": {},
   "outputs": [
    {
     "data": {
      "image/png": "[encoded data removed]",
      "text/plain": [
       "<Figure size 1008x648 with 1 Axes>"
      ]
     },
     "metadata": {
      "needs_background": "light"
     },
     "output_type": "display_data"
    }
   ],
   "source": [
    "x_plot = np.linspace(min(X), max(X), 100)\n",
    "X_plot = x_plot.reshape(-1, 1)\n",
    "y_plot = model.predict(X_plot)\n",
    "\n",
    "dots, = plt.plot(X_test, y_test, 'bo', markersize=2, color=\"red\", label=\"training data\");\n",
    "line, = plt.plot(x_plot, y_plot, linewidth=2, label=\"model\");\n",
    "plt.xlabel('Clouds')\n",
    "plt.ylabel('Production (kWh)')\n",
    "plt.legend(handles=[dots, line]);"
   ]
  },
  {
   "cell_type": "markdown",
   "metadata": {},
   "source": [
    "We can compute the R2 score to assign a number to how well the model fits the data. It estimates how much of the variance in the data is explained by the model, i.e. how well the model fits the data. A score of 1 means the model captures all of the variance, and a score of 0 means the model does not capture any of the variance.\n",
    "\n",
    "You can read more about the R2 score in Section 3.1.3 of \"Introduction to Statistical Learning\"."
   ]
  },
  {
   "cell_type": "code",
   "execution_count": 34,
   "metadata": {},
   "outputs": [
    {
     "data": {
      "text/plain": [
       "0.03843052854256013"
      ]
     },
     "execution_count": 34,
     "metadata": {},
     "output_type": "execute_result"
    }
   ],
   "source": [
    "model.score(X_test, y_test)"
   ]
  },
  {
   "cell_type": "markdown",
   "metadata": {},
   "source": [
    "#### Residuals\n",
    "\n",
    "We can also plot a histogram of the residuals (or errors), i.e. the deviations of the values predicted by our model from the ground truth values (from the test set):"
   ]
  },
  {
   "cell_type": "code",
   "execution_count": 35,
   "metadata": {},
   "outputs": [
    {
     "data": {
      "text/plain": [
       "Text(0, 0.5, 'Frequency')"
      ]
     },
     "execution_count": 35,
     "metadata": {},
     "output_type": "execute_result"
    },
    {
     "data": {
      "image/png": "[encoded data removed]",
      "text/plain": [
       "<Figure size 1008x648 with 1 Axes>"
      ]
     },
     "metadata": {
      "needs_background": "light"
     },
     "output_type": "display_data"
    }
   ],
   "source": [
    "y_pred = model.predict(X_test)\n",
    "plt.title(\"Distribution of the residuals\")\n",
    "plt.hist(y_test - y_pred, 50);\n",
    "plt.xlabel('Residual')\n",
    "plt.ylabel('Frequency')"
   ]
  },
  {
   "cell_type": "markdown",
   "metadata": {},
   "source": [
    "Looking at the histogram you will notice that distribution of the residuals is not symmetric."
   ]
  },
  {
   "cell_type": "markdown",
   "metadata": {},
   "source": [
    "### Question 9\n",
    "\n",
    "Does the model tend to over-estimate, or under-estimate the solar panel output?\n",
    "\n",
    "1. The model tends to under-estimate.\n",
    "2. The model tends to over-estimate.\n",
    "3. The model is not biased\n",
    "\n",
    "Assign an integer corresponding to the correct answer to variable `question_bias`. "
   ]
  },
  {
   "cell_type": "code",
   "execution_count": 36,
   "metadata": {},
   "outputs": [],
   "source": [
    "#// BEGIN_TODO [Q9]\n",
    "question_bias = 2\n",
    "# most cases, as seen in the histogram, the predicted value os higher than the test value\n",
    "#// END_TODO [Q9]"
   ]
  },
  {
   "cell_type": "markdown",
   "metadata": {},
   "source": [
    "If the model is not biased, or if we are not interested in the bias, then we can compute the mean absolute deviation (MAD) to estimate the expected error of a prediction. E.g. a MAD = 0.345 means that we expect on average our predition to be off by 0.345kWh."
   ]
  },
  {
   "cell_type": "code",
   "execution_count": 37,
   "metadata": {},
   "outputs": [
    {
     "data": {
      "text/plain": [
       "0.3873027817572483"
      ]
     },
     "execution_count": 37,
     "metadata": {},
     "output_type": "execute_result"
    }
   ],
   "source": [
    "y_pred = model.predict(X_test)\n",
    "mean_absolute_error(y_test, y_pred)"
   ]
  },
  {
   "cell_type": "markdown",
   "metadata": {},
   "source": [
    "### Improve the model\n",
    "\n",
    "We have shown here a simple linear model mapping the `clouds` feature to the `hourly_production` label. However, this model does not perform very well. The problem could be that the model is underfitting or overfitting the data. You can find more about under- and overfitting in Section 2.1.2, 2.1.3, 6.1 of \"Introduction to Statistical Learning\"."
   ]
  },
  {
   "cell_type": "markdown",
   "metadata": {},
   "source": [
    "### Question 10 ###\n",
    "\n",
    "Is the model underfitting or overfitting? What makes you say that? Investigate and then explain in at most 100 words why you think the model is underfitting or overfitting. Assign the explanation to the variable `question_fitting`."
   ]
  },
  {
   "cell_type": "code",
   "execution_count": 38,
   "metadata": {},
   "outputs": [],
   "source": [
    "#// BEGIN_TODO [Q10]\n",
    "question_fitting = \"\"\"Our model does not capture the underlying structure of the data, therefore it's underfitting. The main reason, is that the variance of the values,\n",
    "are very large, due to no strong colleration between clouds and solar production. Another reason is that we are trying to fit a linear model to non-linear data. \"\"\"\n",
    "#// END_TODO [Q10]"
   ]
  },
  {
   "cell_type": "markdown",
   "metadata": {},
   "source": [
    "One could try several things to improve the model.\n",
    "\n",
    "#### Add more features\n",
    "\n",
    "The simple linear model assumed that there is a strong relation ship between the clouds (or their absence) and the output of the solar panels. However, clouds alone are not a sufficient indicator, e.g. during the night. You may plot a histogram showing how the `clouds` values are distributed during the 24 hours of a day:"
   ]
  },
  {
   "cell_type": "code",
   "execution_count": 39,
   "metadata": {},
   "outputs": [
    {
     "data": {
      "text/plain": [
       "Text(0, 0.5, 'Clouds')"
      ]
     },
     "execution_count": 39,
     "metadata": {},
     "output_type": "execute_result"
    },
    {
     "data": {
      "image/png": "[encoded data removed]",
      "text/plain": [
       "<Figure size 1008x648 with 1 Axes>"
      ]
     },
     "metadata": {
      "needs_background": "light"
     },
     "output_type": "display_data"
    }
   ],
   "source": [
    "plt.hist2d(weather.dropna().hour.values, weather.dropna().clouds.values);\n",
    "plt.xlabel('Hour')\n",
    "plt.ylabel('Clouds')"
   ]
  },
  {
   "cell_type": "markdown",
   "metadata": {},
   "source": [
    "### Question 11\n",
    "\n",
    "Why is the `clouds` column alone not a good indicator for the solar panel output?\n",
    "\n",
    "Answer this question in max. 100 words and assign your string answer to the variable `question_clouds`."
   ]
  },
  {
   "cell_type": "code",
   "execution_count": 40,
   "metadata": {},
   "outputs": [],
   "source": [
    "#// BEGIN_TODO [Q11]\n",
    "question_clouds = '''The production is influenced by the solar energy input, and clouds are not the only indication of that. Temperature is \n",
    "a good indicator as the air is heated from the sun, and wind makes the panel become cold faster, so wind speed is an indication of that.'''\n",
    "#// END_TODO [Q11]"
   ]
  },
  {
   "cell_type": "markdown",
   "metadata": {},
   "source": [
    "While the `clouds` column alone may not be sufficient for predicting the solar planel output, it can be used in combination with other features. Therefore, one way of improving the simple linear model could be to extend it with more features. You can gain insight into which features could be relevant by plotting the relationship between the features and the labels."
   ]
  },
  {
   "cell_type": "code",
   "execution_count": 41,
   "metadata": {},
   "outputs": [],
   "source": [
    "# TODO: use the scatter matrix graph to explore the relationship between the features"
   ]
  },
  {
   "cell_type": "markdown",
   "metadata": {},
   "source": [
    "### Question 12 ###\n",
    "\n",
    "Which features are most promising for predicting the solar panel output? Select the two features that are most strongly correlated with production.\n",
    "\n",
    "- `'year'`\n",
    "- `'month'`\n",
    "- `'day'`\n",
    "- `'hour'`\n",
    "- `'air pressure'`\n",
    "- `'visibility'`\n",
    "- `'wind speed'`\n",
    "- `'temperature'`\n",
    "\n",
    "Assign a list of strings corresponding to the promising features to variable `question_features`."
   ]
  },
  {
   "cell_type": "code",
   "execution_count": 93,
   "metadata": {},
   "outputs": [
    {
     "data": {
      "text/plain": [
       "index                     0.060957\n",
       "year                      0.051267\n",
       "month                     0.005960\n",
       "day                       0.006304\n",
       "hour                      0.027181\n",
       "total_solar_production    0.050803\n",
       "clouds                   -0.187138\n",
       "air pressure              0.077899\n",
       "visibility                0.193632\n",
       "temperature               0.433311\n",
       "wind speed                0.168010\n",
       "dtype: float64"
      ]
     },
     "execution_count": 93,
     "metadata": {},
     "output_type": "execute_result"
    }
   ],
   "source": [
    "weather = raw_weather.copy()\n",
    "times = pd.to_datetime(weather[\"time\"])\n",
    "weather = weather.groupby([times.dt.year, times.dt.month, times.dt.dayofyear, times.dt.hour]).agg({\"air pressure\": np.mean, \"visibility\": np.min, \n",
    "                                                                                                  \"temperature\": np.max, \"wind speed\": np.mean})\n",
    "weather.index.names = [\"year\", \"month\", \"day\", \"hour\"]\n",
    "weather = weather.reset_index()\n",
    "improved_data = pd.merge(data_no_outliers, weather).dropna().reset_index(drop=True)\n",
    "\n",
    "correlations = improved_data.drop(\"production\", axis=1).apply(lambda x: x.corr(improved_data.production))\n",
    "correlations"
   ]
  },
  {
   "cell_type": "code",
   "execution_count": 42,
   "metadata": {},
   "outputs": [],
   "source": [
    "#// BEGIN_TODO [Q12]\n",
    "question_features = [\"temperature\", \"visibility\"]\n",
    "#// END_TODO [Q12]"
   ]
  },
  {
   "cell_type": "markdown",
   "metadata": {},
   "source": [
    "Note that using additional features may require aggregating them per hour. The `clouds` feature was aggregated taking the maximum value within a given hour, but this may not be suitable for all features."
   ]
  },
  {
   "cell_type": "markdown",
   "metadata": {},
   "source": [
    "### Question 13 ###\n",
    "\n",
    "Using your new-found knowledge of the features, re-define the data on which you train and evaluate your model. Try to improve your model as much as possible by only changing the selection of features.\n",
    "\n",
    "Assign your new data, new model and the corresponding MAD score to the variables `improved_data`, `improved_model`, `improved_mad`, respectively."
   ]
  },
  {
   "cell_type": "code",
   "execution_count": 43,
   "metadata": {},
   "outputs": [],
   "source": [
    "# TODO: improve model"
   ]
  },
  {
   "cell_type": "code",
   "execution_count": 44,
   "metadata": {},
   "outputs": [],
   "source": [
    "#// BEGIN_TODO [Q13]\n",
    "\n",
    "weather = raw_weather.copy()\n",
    "times = pd.to_datetime(weather[\"time\"])\n",
    "weather = weather.groupby([times.dt.year, times.dt.month, times.dt.dayofyear, times.dt.hour]).agg({\"air pressure\": np.mean, \"visibility\": np.min, \n",
    "                                                                                                  \"temperature\": np.max, \"wind speed\": np.mean})\n",
    "weather.index.names = [\"year\", \"month\", \"day\", \"hour\"]\n",
    "weather = weather.reset_index()\n",
    "improved_data = pd.merge(data_no_outliers, weather).dropna().reset_index(drop=True)\n",
    "#improved_data = improved_data[0:6612]\n",
    "X = improved_data[[\"clouds\", \"temperature\", \"wind speed\", \"hour\", \"month\", \"air pressure\", \"visibility\"]].values\n",
    "y = improved_data[\"production\"].values\n",
    "X_train, X_test, y_train, y_test = train_test_split(X, y, test_size=0.2, random_state=42)\n",
    "\n",
    "improved_model = LinearRegression()\n",
    "improved_model.fit(X_train, y_train)\n",
    "y_pred = improved_model.predict(X_test)\n",
    "improved_mad = mean_absolute_error(y_test, y_pred)\n",
    "\n",
    "#// END_TODO [Q13]"
   ]
  },
  {
   "cell_type": "code",
   "execution_count": 45,
   "metadata": {},
   "outputs": [
    {
     "name": "stdout",
     "output_type": "stream",
     "text": [
      "0.30633405211443476\n",
      "0.32377987543153514\n"
     ]
    },
    {
     "data": {
      "text/html": [
       "<div>\n",
       "<style scoped>\n",
       "    .dataframe tbody tr th:only-of-type {\n",
       "        vertical-align: middle;\n",
       "    }\n",
       "\n",
       "    .dataframe tbody tr th {\n",
       "        vertical-align: top;\n",
       "    }\n",
       "\n",
       "    .dataframe thead th {\n",
       "        text-align: right;\n",
       "    }\n",
       "</style>\n",
       "<table border=\"1\" class=\"dataframe\">\n",
       "  <thead>\n",
       "    <tr style=\"text-align: right;\">\n",
       "      <th></th>\n",
       "      <th>index</th>\n",
       "      <th>year</th>\n",
       "      <th>month</th>\n",
       "      <th>day</th>\n",
       "      <th>hour</th>\n",
       "      <th>total_solar_production</th>\n",
       "      <th>production</th>\n",
       "      <th>clouds</th>\n",
       "      <th>air pressure</th>\n",
       "      <th>visibility</th>\n",
       "      <th>temperature</th>\n",
       "      <th>wind speed</th>\n",
       "    </tr>\n",
       "  </thead>\n",
       "  <tbody>\n",
       "    <tr>\n",
       "      <th>0</th>\n",
       "      <td>1</td>\n",
       "      <td>2017</td>\n",
       "      <td>1</td>\n",
       "      <td>1</td>\n",
       "      <td>1</td>\n",
       "      <td>4147.1</td>\n",
       "      <td>0.0</td>\n",
       "      <td>3.0</td>\n",
       "      <td>1024.650000</td>\n",
       "      <td>363.0</td>\n",
       "      <td>-1.3</td>\n",
       "      <td>3.166667</td>\n",
       "    </tr>\n",
       "    <tr>\n",
       "      <th>1</th>\n",
       "      <td>2</td>\n",
       "      <td>2017</td>\n",
       "      <td>1</td>\n",
       "      <td>1</td>\n",
       "      <td>2</td>\n",
       "      <td>4147.1</td>\n",
       "      <td>0.0</td>\n",
       "      <td>3.0</td>\n",
       "      <td>1024.066667</td>\n",
       "      <td>287.0</td>\n",
       "      <td>-1.3</td>\n",
       "      <td>4.000000</td>\n",
       "    </tr>\n",
       "    <tr>\n",
       "      <th>2</th>\n",
       "      <td>3</td>\n",
       "      <td>2017</td>\n",
       "      <td>1</td>\n",
       "      <td>1</td>\n",
       "      <td>3</td>\n",
       "      <td>4147.1</td>\n",
       "      <td>0.0</td>\n",
       "      <td>3.0</td>\n",
       "      <td>1023.166667</td>\n",
       "      <td>349.0</td>\n",
       "      <td>-1.2</td>\n",
       "      <td>3.333333</td>\n",
       "    </tr>\n",
       "    <tr>\n",
       "      <th>3</th>\n",
       "      <td>4</td>\n",
       "      <td>2017</td>\n",
       "      <td>1</td>\n",
       "      <td>1</td>\n",
       "      <td>4</td>\n",
       "      <td>4147.1</td>\n",
       "      <td>0.0</td>\n",
       "      <td>3.0</td>\n",
       "      <td>1022.266667</td>\n",
       "      <td>1000.0</td>\n",
       "      <td>-1.2</td>\n",
       "      <td>3.333333</td>\n",
       "    </tr>\n",
       "    <tr>\n",
       "      <th>4</th>\n",
       "      <td>5</td>\n",
       "      <td>2017</td>\n",
       "      <td>1</td>\n",
       "      <td>1</td>\n",
       "      <td>5</td>\n",
       "      <td>4147.1</td>\n",
       "      <td>0.0</td>\n",
       "      <td>3.0</td>\n",
       "      <td>1021.616667</td>\n",
       "      <td>2290.0</td>\n",
       "      <td>-1.3</td>\n",
       "      <td>3.000000</td>\n",
       "    </tr>\n",
       "    <tr>\n",
       "      <th>...</th>\n",
       "      <td>...</td>\n",
       "      <td>...</td>\n",
       "      <td>...</td>\n",
       "      <td>...</td>\n",
       "      <td>...</td>\n",
       "      <td>...</td>\n",
       "      <td>...</td>\n",
       "      <td>...</td>\n",
       "      <td>...</td>\n",
       "      <td>...</td>\n",
       "      <td>...</td>\n",
       "      <td>...</td>\n",
       "    </tr>\n",
       "    <tr>\n",
       "      <th>16400</th>\n",
       "      <td>16999</td>\n",
       "      <td>2019</td>\n",
       "      <td>10</td>\n",
       "      <td>297</td>\n",
       "      <td>19</td>\n",
       "      <td>12475.1</td>\n",
       "      <td>0.0</td>\n",
       "      <td>2.0</td>\n",
       "      <td>1010.133333</td>\n",
       "      <td>38500.0</td>\n",
       "      <td>15.9</td>\n",
       "      <td>5.833333</td>\n",
       "    </tr>\n",
       "    <tr>\n",
       "      <th>16401</th>\n",
       "      <td>17000</td>\n",
       "      <td>2019</td>\n",
       "      <td>10</td>\n",
       "      <td>297</td>\n",
       "      <td>20</td>\n",
       "      <td>12475.1</td>\n",
       "      <td>0.0</td>\n",
       "      <td>3.0</td>\n",
       "      <td>1010.783333</td>\n",
       "      <td>46900.0</td>\n",
       "      <td>15.8</td>\n",
       "      <td>5.166667</td>\n",
       "    </tr>\n",
       "    <tr>\n",
       "      <th>16402</th>\n",
       "      <td>17001</td>\n",
       "      <td>2019</td>\n",
       "      <td>10</td>\n",
       "      <td>297</td>\n",
       "      <td>21</td>\n",
       "      <td>12475.1</td>\n",
       "      <td>0.0</td>\n",
       "      <td>3.0</td>\n",
       "      <td>1011.533333</td>\n",
       "      <td>49800.0</td>\n",
       "      <td>15.2</td>\n",
       "      <td>5.500000</td>\n",
       "    </tr>\n",
       "    <tr>\n",
       "      <th>16403</th>\n",
       "      <td>17002</td>\n",
       "      <td>2019</td>\n",
       "      <td>10</td>\n",
       "      <td>297</td>\n",
       "      <td>22</td>\n",
       "      <td>12475.1</td>\n",
       "      <td>0.0</td>\n",
       "      <td>3.0</td>\n",
       "      <td>1012.116667</td>\n",
       "      <td>14900.0</td>\n",
       "      <td>14.8</td>\n",
       "      <td>5.333333</td>\n",
       "    </tr>\n",
       "    <tr>\n",
       "      <th>16404</th>\n",
       "      <td>17003</td>\n",
       "      <td>2019</td>\n",
       "      <td>10</td>\n",
       "      <td>297</td>\n",
       "      <td>23</td>\n",
       "      <td>12475.1</td>\n",
       "      <td>0.0</td>\n",
       "      <td>3.0</td>\n",
       "      <td>1012.650000</td>\n",
       "      <td>21300.0</td>\n",
       "      <td>13.0</td>\n",
       "      <td>4.833333</td>\n",
       "    </tr>\n",
       "  </tbody>\n",
       "</table>\n",
       "<p>16405 rows × 12 columns</p>\n",
       "</div>"
      ],
      "text/plain": [
       "       index  year  month  day  hour  total_solar_production  production  \\\n",
       "0          1  2017      1    1     1                  4147.1         0.0   \n",
       "1          2  2017      1    1     2                  4147.1         0.0   \n",
       "2          3  2017      1    1     3                  4147.1         0.0   \n",
       "3          4  2017      1    1     4                  4147.1         0.0   \n",
       "4          5  2017      1    1     5                  4147.1         0.0   \n",
       "...      ...   ...    ...  ...   ...                     ...         ...   \n",
       "16400  16999  2019     10  297    19                 12475.1         0.0   \n",
       "16401  17000  2019     10  297    20                 12475.1         0.0   \n",
       "16402  17001  2019     10  297    21                 12475.1         0.0   \n",
       "16403  17002  2019     10  297    22                 12475.1         0.0   \n",
       "16404  17003  2019     10  297    23                 12475.1         0.0   \n",
       "\n",
       "       clouds  air pressure  visibility  temperature  wind speed  \n",
       "0         3.0   1024.650000       363.0         -1.3    3.166667  \n",
       "1         3.0   1024.066667       287.0         -1.3    4.000000  \n",
       "2         3.0   1023.166667       349.0         -1.2    3.333333  \n",
       "3         3.0   1022.266667      1000.0         -1.2    3.333333  \n",
       "4         3.0   1021.616667      2290.0         -1.3    3.000000  \n",
       "...       ...           ...         ...          ...         ...  \n",
       "16400     2.0   1010.133333     38500.0         15.9    5.833333  \n",
       "16401     3.0   1010.783333     46900.0         15.8    5.166667  \n",
       "16402     3.0   1011.533333     49800.0         15.2    5.500000  \n",
       "16403     3.0   1012.116667     14900.0         14.8    5.333333  \n",
       "16404     3.0   1012.650000     21300.0         13.0    4.833333  \n",
       "\n",
       "[16405 rows x 12 columns]"
      ]
     },
     "execution_count": 45,
     "metadata": {},
     "output_type": "execute_result"
    }
   ],
   "source": [
    "print(improved_model.score(X_test, y_test))\n",
    "print(improved_mad)\n",
    "improved_data"
   ]
  },
  {
   "cell_type": "markdown",
   "metadata": {},
   "source": [
    "#### Choose a more or less flexible model\n",
    "\n",
    "Another way is to add flexibility to the model e.g. by changing it to a polynomial model or a neural network. You can read more about simple extensions of the linear model in Section 3.3.2 and 6.2 of \"Introduction to Statistical Learning\".\n",
    "\n",
    "Linear regression is far from the only modeling we can do here. Another model we could use is that of a Decision Tree. What is nice about these types of models is that they show the exact sequence of decisions that a model makes in order to arrive at a prediction. You can read more about Decision Trees at [https://scikit-learn.org/stable/modules/tree.html]. Note that in this instance, we will want to use the Decision Tree regression model, not the classification model."
   ]
  },
  {
   "cell_type": "markdown",
   "metadata": {},
   "source": [
    "### Question 14"
   ]
  },
  {
   "cell_type": "markdown",
   "metadata": {},
   "source": [
    "The Decision Tree model has quite a number of parameters, and we encourage you to do so to see their impact on the model's performance. One of the most important ones is that of tree depth. What happens with an increase in depth? Note that there may be more than one correct answer.\n",
    "\n",
    "1. An increase in depth helps to avoid overfitting.\n",
    "2. An increase in depth helps to avoid underfitting.\n",
    "3. An increase in depth makes the model more biased towards new data.\n",
    "4. An increase in depth makes the model less biased towards new data.\n",
    "\n",
    "Assign the integer(s) corresponding to the correct answer(s) as a list to the variable `decision_tree_depth`. "
   ]
  },
  {
   "cell_type": "code",
   "execution_count": 47,
   "metadata": {},
   "outputs": [],
   "source": [
    "#// BEGIN_TODO [Q14]\n",
    "decision_tree_depth = [2, 4]\n",
    "#// END_TODO [Q14]"
   ]
  },
  {
   "cell_type": "markdown",
   "metadata": {},
   "source": [
    "### Question 15"
   ]
  },
  {
   "cell_type": "markdown",
   "metadata": {},
   "source": [
    "Train a Decision Tree model an assign it to the variable `decision_tree`. Inspect it and determine what the three most influential features are according to this model. Assign the names of these features as a list of strings to the variable `decision_tree_features`. You may want to plot the resulting model to help you inspect it. "
   ]
  },
  {
   "cell_type": "code",
   "execution_count": 48,
   "metadata": {},
   "outputs": [
    {
     "name": "stdout",
     "output_type": "stream",
     "text": [
      "0.6182253113746424\n"
     ]
    },
    {
     "data": {
      "image/png": "[encoded data removed]",
      "text/plain": [
       "<Figure size 1008x648 with 1 Axes>"
      ]
     },
     "metadata": {
      "needs_background": "light"
     },
     "output_type": "display_data"
    }
   ],
   "source": [
    "# TODO: train and inspect decision tree\n",
    "decision_tree = tree.DecisionTreeRegressor(max_depth = 5)\n",
    "decision_tree.fit(X, y) #trained on the whole data set for below\n",
    "print(decision_tree.score(X_test, y_test))\n",
    "plt.figure()\n",
    "tree.plot_tree(decision_tree,filled=True)  \n",
    "plt.savefig('tree.eps',format='eps',bbox_inches = \"tight\")#saves plot to file to be zoomed in"
   ]
  },
  {
   "cell_type": "code",
   "execution_count": 49,
   "metadata": {},
   "outputs": [],
   "source": [
    "#// BEGIN_TODO [Q15]\n",
    "decision_tree_features = [\"temperature\", \"hour\", \"clouds\"]\n",
    "#// END_TODO [Q15]"
   ]
  },
  {
   "cell_type": "markdown",
   "metadata": {},
   "source": [
    "### Simulate the forecasting\n",
    "\n",
    "The `weather_171819_test.csv` file contains the weather data that was held out from `weather_171819.csv` used for training the solar panel output predictor. This data simulates the weather forcasts and is used for evaluating how your model would perform if it was deployed."
   ]
  },
  {
   "cell_type": "code",
   "execution_count": 50,
   "metadata": {},
   "outputs": [
    {
     "data": {
      "text/html": [
       "<div>\n",
       "<style scoped>\n",
       "    .dataframe tbody tr th:only-of-type {\n",
       "        vertical-align: middle;\n",
       "    }\n",
       "\n",
       "    .dataframe tbody tr th {\n",
       "        vertical-align: top;\n",
       "    }\n",
       "\n",
       "    .dataframe thead th {\n",
       "        text-align: right;\n",
       "    }\n",
       "</style>\n",
       "<table border=\"1\" class=\"dataframe\">\n",
       "  <thead>\n",
       "    <tr style=\"text-align: right;\">\n",
       "      <th></th>\n",
       "      <th>time</th>\n",
       "      <th>clouds</th>\n",
       "      <th>temperature</th>\n",
       "      <th>humidity</th>\n",
       "      <th>wind direction</th>\n",
       "      <th>wind speed</th>\n",
       "      <th>visibility</th>\n",
       "      <th>air pressure</th>\n",
       "      <th>year</th>\n",
       "    </tr>\n",
       "  </thead>\n",
       "  <tbody>\n",
       "    <tr>\n",
       "      <th>0</th>\n",
       "      <td>2017-01-25T00:00:00Z</td>\n",
       "      <td>3.0</td>\n",
       "      <td>-0.3</td>\n",
       "      <td>91.0</td>\n",
       "      <td>OZO</td>\n",
       "      <td>1.0</td>\n",
       "      <td>3170.0</td>\n",
       "      <td>1031.2</td>\n",
       "      <td>2017</td>\n",
       "    </tr>\n",
       "    <tr>\n",
       "      <th>1</th>\n",
       "      <td>2017-01-25T00:10:00Z</td>\n",
       "      <td>3.0</td>\n",
       "      <td>-0.4</td>\n",
       "      <td>90.0</td>\n",
       "      <td>O</td>\n",
       "      <td>2.0</td>\n",
       "      <td>3160.0</td>\n",
       "      <td>1031.2</td>\n",
       "      <td>2017</td>\n",
       "    </tr>\n",
       "    <tr>\n",
       "      <th>2</th>\n",
       "      <td>2017-01-25T00:20:00Z</td>\n",
       "      <td>3.0</td>\n",
       "      <td>-0.4</td>\n",
       "      <td>90.0</td>\n",
       "      <td>OZO</td>\n",
       "      <td>2.0</td>\n",
       "      <td>2970.0</td>\n",
       "      <td>1031.1</td>\n",
       "      <td>2017</td>\n",
       "    </tr>\n",
       "    <tr>\n",
       "      <th>3</th>\n",
       "      <td>2017-01-25T00:30:00Z</td>\n",
       "      <td>3.0</td>\n",
       "      <td>-0.3</td>\n",
       "      <td>91.0</td>\n",
       "      <td>ZZO</td>\n",
       "      <td>2.0</td>\n",
       "      <td>2940.0</td>\n",
       "      <td>1031.0</td>\n",
       "      <td>2017</td>\n",
       "    </tr>\n",
       "    <tr>\n",
       "      <th>4</th>\n",
       "      <td>2017-01-25T00:40:00Z</td>\n",
       "      <td>3.0</td>\n",
       "      <td>-0.3</td>\n",
       "      <td>90.0</td>\n",
       "      <td>ZO</td>\n",
       "      <td>1.0</td>\n",
       "      <td>2980.0</td>\n",
       "      <td>1031.0</td>\n",
       "      <td>2017</td>\n",
       "    </tr>\n",
       "  </tbody>\n",
       "</table>\n",
       "</div>"
      ],
      "text/plain": [
       "                   time  clouds  temperature  humidity wind direction  \\\n",
       "0  2017-01-25T00:00:00Z     3.0         -0.3      91.0            OZO   \n",
       "1  2017-01-25T00:10:00Z     3.0         -0.4      90.0              O   \n",
       "2  2017-01-25T00:20:00Z     3.0         -0.4      90.0            OZO   \n",
       "3  2017-01-25T00:30:00Z     3.0         -0.3      91.0            ZZO   \n",
       "4  2017-01-25T00:40:00Z     3.0         -0.3      90.0             ZO   \n",
       "\n",
       "   wind speed  visibility  air pressure  year  \n",
       "0         1.0      3170.0        1031.2  2017  \n",
       "1         2.0      3160.0        1031.2  2017  \n",
       "2         2.0      2970.0        1031.1  2017  \n",
       "3         2.0      2940.0        1031.0  2017  \n",
       "4         1.0      2980.0        1031.0  2017  "
      ]
     },
     "execution_count": 50,
     "metadata": {},
     "output_type": "execute_result"
    }
   ],
   "source": [
    "weather_test = pd.read_csv('./weather_171819_test.csv')\n",
    "weather_test.head()"
   ]
  },
  {
   "cell_type": "markdown",
   "metadata": {},
   "source": [
    "Provide the predictions for the hourly solar panel output for the given weather forecasts, i.e. populate the `production` column in the following data frame:"
   ]
  },
  {
   "cell_type": "code",
   "execution_count": 51,
   "metadata": {
    "scrolled": true
   },
   "outputs": [
    {
     "data": {
      "text/html": [
       "<div>\n",
       "<style scoped>\n",
       "    .dataframe tbody tr th:only-of-type {\n",
       "        vertical-align: middle;\n",
       "    }\n",
       "\n",
       "    .dataframe tbody tr th {\n",
       "        vertical-align: top;\n",
       "    }\n",
       "\n",
       "    .dataframe thead th {\n",
       "        text-align: right;\n",
       "    }\n",
       "</style>\n",
       "<table border=\"1\" class=\"dataframe\">\n",
       "  <thead>\n",
       "    <tr style=\"text-align: right;\">\n",
       "      <th></th>\n",
       "      <th>month</th>\n",
       "      <th>day</th>\n",
       "      <th>hour</th>\n",
       "      <th>production</th>\n",
       "    </tr>\n",
       "  </thead>\n",
       "  <tbody>\n",
       "    <tr>\n",
       "      <th>10</th>\n",
       "      <td>1</td>\n",
       "      <td>25</td>\n",
       "      <td>11</td>\n",
       "      <td>0.1196</td>\n",
       "    </tr>\n",
       "    <tr>\n",
       "      <th>11</th>\n",
       "      <td>1</td>\n",
       "      <td>25</td>\n",
       "      <td>12</td>\n",
       "      <td>0.1403</td>\n",
       "    </tr>\n",
       "    <tr>\n",
       "      <th>12</th>\n",
       "      <td>1</td>\n",
       "      <td>25</td>\n",
       "      <td>13</td>\n",
       "      <td>0.1916</td>\n",
       "    </tr>\n",
       "    <tr>\n",
       "      <th>13</th>\n",
       "      <td>1</td>\n",
       "      <td>25</td>\n",
       "      <td>14</td>\n",
       "      <td>0.5653</td>\n",
       "    </tr>\n",
       "    <tr>\n",
       "      <th>14</th>\n",
       "      <td>1</td>\n",
       "      <td>25</td>\n",
       "      <td>15</td>\n",
       "      <td>0.4284</td>\n",
       "    </tr>\n",
       "    <tr>\n",
       "      <th>15</th>\n",
       "      <td>1</td>\n",
       "      <td>25</td>\n",
       "      <td>16</td>\n",
       "      <td>0.0883</td>\n",
       "    </tr>\n",
       "    <tr>\n",
       "      <th>16</th>\n",
       "      <td>1</td>\n",
       "      <td>25</td>\n",
       "      <td>17</td>\n",
       "      <td>0.0032</td>\n",
       "    </tr>\n",
       "    <tr>\n",
       "      <th>17</th>\n",
       "      <td>1</td>\n",
       "      <td>25</td>\n",
       "      <td>18</td>\n",
       "      <td>0.0003</td>\n",
       "    </tr>\n",
       "    <tr>\n",
       "      <th>18</th>\n",
       "      <td>1</td>\n",
       "      <td>25</td>\n",
       "      <td>19</td>\n",
       "      <td>0.0001</td>\n",
       "    </tr>\n",
       "    <tr>\n",
       "      <th>19</th>\n",
       "      <td>1</td>\n",
       "      <td>25</td>\n",
       "      <td>20</td>\n",
       "      <td>0.0016</td>\n",
       "    </tr>\n",
       "  </tbody>\n",
       "</table>\n",
       "</div>"
      ],
      "text/plain": [
       "    month  day  hour  production\n",
       "10      1   25    11      0.1196\n",
       "11      1   25    12      0.1403\n",
       "12      1   25    13      0.1916\n",
       "13      1   25    14      0.5653\n",
       "14      1   25    15      0.4284\n",
       "15      1   25    16      0.0883\n",
       "16      1   25    17      0.0032\n",
       "17      1   25    18      0.0003\n",
       "18      1   25    19      0.0001\n",
       "19      1   25    20      0.0016"
      ]
     },
     "execution_count": 51,
     "metadata": {},
     "output_type": "execute_result"
    }
   ],
   "source": [
    "from sklearn.ensemble import RandomForestRegressor\n",
    "\n",
    "prediction = weather_test.copy()\n",
    "times = pd.to_datetime(prediction[\"time\"])\n",
    "prediction['month'] = times.dt.month\n",
    "prediction['day'] = times.dt.dayofyear\n",
    "prediction['hour'] = times.dt.hour\n",
    "prediction = prediction.drop(prediction[prediction['hour'] == 0].index)\n",
    "\n",
    "#start prediction\n",
    "grouped = prediction.groupby([prediction['month'], prediction['day'], prediction['hour']], as_index=False).agg({\"clouds\": np.mean, \"air pressure\": np.mean, \"visibility\": np.min, \"temperature\": np.max, \"wind speed\": np.mean})\n",
    "grouped.reset_index\n",
    "inp = grouped[[\"clouds\", \"temperature\", \"wind speed\", \"hour\", \"day\", \"month\", \"air pressure\", \"visibility\"]].values\n",
    "rf = RandomForestRegressor(n_estimators=1000)\n",
    "X = improved_data[[\"clouds\", \"temperature\", \"wind speed\", \"hour\", \"day\", \"month\", \"air pressure\", \"visibility\"]].values\n",
    "rf.fit(X, y)\n",
    "predicted_production = rf.predict(inp)\n",
    "#end prediction\n",
    "\n",
    "prediction = prediction[['month', 'day', 'hour']]\n",
    "prediction = prediction.drop_duplicates().reset_index(drop=True)\n",
    "prediction['production'] = predicted_production\n",
    "prediction[10:20]"
   ]
  },
  {
   "cell_type": "markdown",
   "metadata": {},
   "source": [
    "**Important:** your model will be evaluated on the held out test set. It is therefore safe to train your *final* model on the entire data set that was provided (rather than the X_train, y_train subsets from the train/test split above), to captures all of the information that is available to you."
   ]
  },
  {
   "cell_type": "markdown",
   "metadata": {},
   "source": [
    "### Question 16\n",
    "\n",
    "Fill in the `'production'` column in the prediction data frame with your predictions (do not reorder the rows). Assign the values from the `'production`' column as a Python list to the variable `forecast`. You may use any predictive model from the `sklearn` package (please do not use any packages that are not already included in this notebook). You can take a look through the contents of `sklearn` at [https://scikit-learn.org/stable/supervised_learning.html] to find supervised models that suit this purpose, such as Random Forests and Multi-layer Perceptrons. "
   ]
  },
  {
   "cell_type": "code",
   "execution_count": 52,
   "metadata": {},
   "outputs": [],
   "source": [
    "# TODO: forecast"
   ]
  },
  {
   "cell_type": "code",
   "execution_count": 53,
   "metadata": {},
   "outputs": [],
   "source": [
    "#// BEGIN_TODO [Q16]\n",
    "forecast = prediction[\"production\"].tolist()\n",
    "#// END_TODO [Q16]"
   ]
  },
  {
   "cell_type": "markdown",
   "metadata": {},
   "source": [
    "For automating the evaluation of your predictions, call the evaluate function that is defined in the `evaluate.py` script (do not edit the code lines below!):"
   ]
  },
  {
   "cell_type": "code",
   "execution_count": 54,
   "metadata": {
    "scrolled": true
   },
   "outputs": [
    {
     "data": {
      "text/plain": [
       "'This is a stub for the evaluation function. The real implementation will compare your predictions with the held out production measurements.'"
      ]
     },
     "execution_count": 54,
     "metadata": {},
     "output_type": "execute_result"
    }
   ],
   "source": [
    "from evaluate_stub import *\n",
    "evaluate(prediction)"
   ]
  },
  {
   "cell_type": "markdown",
   "metadata": {},
   "source": [
    "As a sanity check, make sure that the `prediction` data frame contains a `production` column and 1919 rows.\n",
    "\n",
    "Your solution will be evaluated based on the mean absolute error metric."
   ]
  },
  {
   "cell_type": "markdown",
   "metadata": {},
   "source": [
    "### Reliability\n",
    "\n",
    "We often assume that the trained model will operate on data from the same distribution as the data it was trained on (see Chapter 1 of the book \"Dataset Shift in Machine Learning\"). However, sometimes these assumptions are not true.\n",
    "\n",
    "Using the model you trained for question 13, evaluate the model's performance on the data set provided below. It contains the energy and weather data for part of the year 2020. Note that as before, this is raw data. You will need to do some cleaning."
   ]
  },
  {
   "cell_type": "code",
   "execution_count": 55,
   "metadata": {},
   "outputs": [],
   "source": [
    "raw_energy_20 = pd.read_csv('./energy_20.csv')\n",
    "raw_weather_20 = pd.read_csv('./weather_20.csv')"
   ]
  },
  {
   "cell_type": "code",
   "execution_count": 56,
   "metadata": {},
   "outputs": [
    {
     "name": "stdout",
     "output_type": "stream",
     "text": [
      "0.39298123126798234\n",
      "0.34862401283423006\n"
     ]
    }
   ],
   "source": [
    "# TODO: Evaluate the model from previous question on the new data\n",
    "\n",
    "# Clean raw_energy_20\n",
    "raw_energy_20[\"seconds\"] += 3600\n",
    "\n",
    "index = raw_energy_20.index\n",
    "cond = raw_energy_20.total_solar_production == 0 # condition of selection\n",
    "indices = index[cond].tolist() # select the rows\n",
    "raw_energy_20=raw_energy_20.drop(indices) # drop them\n",
    "\n",
    "col = \"total_solar_production\"\n",
    "energy = raw_energy_20.copy()\n",
    "times = pd.to_datetime(energy[\"seconds\"], unit='s')\n",
    "energy = energy.groupby([times.dt.year, times.dt.month, times.dt.dayofyear, times.dt.hour])[[col]].agg(np.max)\n",
    "energy.index.names = [\"year\", \"month\", \"day\", \"hour\"]\n",
    "energy = energy.dropna()\n",
    "energy = energy.reset_index()\n",
    "\n",
    "energy[\"production\"] = energy[col] - energy[col].shift(1)\n",
    "energy.loc[np.isnan(energy.production)]\n",
    "energy = energy.dropna().reset_index()\n",
    "\n",
    "#Aggregate weather_20\n",
    "weather2 = raw_weather_20.copy()\n",
    "times = pd.to_datetime(weather2[\"time\"])\n",
    "weather2 = weather2.groupby([times.dt.year, times.dt.month, times.dt.dayofyear, times.dt.hour]).agg({\"clouds\": np.mean, \"air pressure\": np.mean, \n",
    "                                                                                                   \"visibility\": np.min, \"temperature\": np.max, \n",
    "                                                                                                   \"wind speed\": np.mean})\n",
    "weather2.index.names = [\"year\", \"month\", \"day\", \"hour\"]\n",
    "weather2 = weather2.reset_index()\n",
    "\n",
    "#Merge and remove outliers\n",
    "data_20 = pd.merge(energy, weather2).dropna().reset_index(drop=True)\n",
    "mask = data_20.production <= 2.55\n",
    "data_20_no_outliers = data_20.loc[mask]\n",
    "improved_data_20 = pd.merge(data_20_no_outliers, weather2).dropna().reset_index(drop=True)\n",
    "\n",
    "# Train model\n",
    "X = improved_data_20[[\"clouds\", \"temperature\", \"wind speed\", \"hour\", \"month\", \"air pressure\", \"visibility\"]].values\n",
    "y = improved_data_20[\"production\"].values\n",
    "X_train, X_test, y_train, y_test = train_test_split(X, y, test_size=0.2, random_state=42)\n",
    "improved_model_20 = LinearRegression()\n",
    "improved_model_20.fit(X_train, y_train)\n",
    "y_pred = improved_model_20.predict(X_test)\n",
    "improved_mad_20 = mean_absolute_error(y_test, y_pred)\n",
    "\n",
    "print(improved_model_20.score(X_test, y_test))\n",
    "print(improved_mad_20)"
   ]
  },
  {
   "cell_type": "code",
   "execution_count": 57,
   "metadata": {},
   "outputs": [
    {
     "data": {
      "text/html": [
       "<div>\n",
       "<style scoped>\n",
       "    .dataframe tbody tr th:only-of-type {\n",
       "        vertical-align: middle;\n",
       "    }\n",
       "\n",
       "    .dataframe tbody tr th {\n",
       "        vertical-align: top;\n",
       "    }\n",
       "\n",
       "    .dataframe thead th {\n",
       "        text-align: right;\n",
       "    }\n",
       "</style>\n",
       "<table border=\"1\" class=\"dataframe\">\n",
       "  <thead>\n",
       "    <tr style=\"text-align: right;\">\n",
       "      <th></th>\n",
       "      <th>index</th>\n",
       "      <th>year</th>\n",
       "      <th>month</th>\n",
       "      <th>day</th>\n",
       "      <th>hour</th>\n",
       "      <th>total_solar_production</th>\n",
       "      <th>production</th>\n",
       "      <th>clouds</th>\n",
       "      <th>air pressure</th>\n",
       "      <th>visibility</th>\n",
       "      <th>temperature</th>\n",
       "      <th>wind speed</th>\n",
       "    </tr>\n",
       "  </thead>\n",
       "  <tbody>\n",
       "    <tr>\n",
       "      <th>0</th>\n",
       "      <td>1</td>\n",
       "      <td>2020</td>\n",
       "      <td>1</td>\n",
       "      <td>1</td>\n",
       "      <td>1</td>\n",
       "      <td>12663.0</td>\n",
       "      <td>0.0</td>\n",
       "      <td>3.0</td>\n",
       "      <td>1033.966667</td>\n",
       "      <td>3100.0</td>\n",
       "      <td>3.2</td>\n",
       "      <td>2.500000</td>\n",
       "    </tr>\n",
       "    <tr>\n",
       "      <th>1</th>\n",
       "      <td>2</td>\n",
       "      <td>2020</td>\n",
       "      <td>1</td>\n",
       "      <td>1</td>\n",
       "      <td>2</td>\n",
       "      <td>12663.0</td>\n",
       "      <td>0.0</td>\n",
       "      <td>3.0</td>\n",
       "      <td>1033.600000</td>\n",
       "      <td>2800.0</td>\n",
       "      <td>2.9</td>\n",
       "      <td>2.333333</td>\n",
       "    </tr>\n",
       "    <tr>\n",
       "      <th>2</th>\n",
       "      <td>3</td>\n",
       "      <td>2020</td>\n",
       "      <td>1</td>\n",
       "      <td>1</td>\n",
       "      <td>3</td>\n",
       "      <td>12663.0</td>\n",
       "      <td>0.0</td>\n",
       "      <td>3.0</td>\n",
       "      <td>1033.266667</td>\n",
       "      <td>2900.0</td>\n",
       "      <td>2.5</td>\n",
       "      <td>2.666667</td>\n",
       "    </tr>\n",
       "    <tr>\n",
       "      <th>3</th>\n",
       "      <td>4</td>\n",
       "      <td>2020</td>\n",
       "      <td>1</td>\n",
       "      <td>1</td>\n",
       "      <td>4</td>\n",
       "      <td>12663.0</td>\n",
       "      <td>0.0</td>\n",
       "      <td>3.0</td>\n",
       "      <td>1032.833333</td>\n",
       "      <td>2800.0</td>\n",
       "      <td>2.2</td>\n",
       "      <td>2.000000</td>\n",
       "    </tr>\n",
       "    <tr>\n",
       "      <th>4</th>\n",
       "      <td>5</td>\n",
       "      <td>2020</td>\n",
       "      <td>1</td>\n",
       "      <td>1</td>\n",
       "      <td>5</td>\n",
       "      <td>12663.0</td>\n",
       "      <td>0.0</td>\n",
       "      <td>3.0</td>\n",
       "      <td>1032.516667</td>\n",
       "      <td>800.0</td>\n",
       "      <td>2.0</td>\n",
       "      <td>2.166667</td>\n",
       "    </tr>\n",
       "    <tr>\n",
       "      <th>...</th>\n",
       "      <td>...</td>\n",
       "      <td>...</td>\n",
       "      <td>...</td>\n",
       "      <td>...</td>\n",
       "      <td>...</td>\n",
       "      <td>...</td>\n",
       "      <td>...</td>\n",
       "      <td>...</td>\n",
       "      <td>...</td>\n",
       "      <td>...</td>\n",
       "      <td>...</td>\n",
       "      <td>...</td>\n",
       "    </tr>\n",
       "    <tr>\n",
       "      <th>6667</th>\n",
       "      <td>6740</td>\n",
       "      <td>2020</td>\n",
       "      <td>10</td>\n",
       "      <td>282</td>\n",
       "      <td>16</td>\n",
       "      <td>15215.4</td>\n",
       "      <td>0.1</td>\n",
       "      <td>3.0</td>\n",
       "      <td>1010.950000</td>\n",
       "      <td>2800.0</td>\n",
       "      <td>15.9</td>\n",
       "      <td>8.833333</td>\n",
       "    </tr>\n",
       "    <tr>\n",
       "      <th>6668</th>\n",
       "      <td>6741</td>\n",
       "      <td>2020</td>\n",
       "      <td>10</td>\n",
       "      <td>282</td>\n",
       "      <td>17</td>\n",
       "      <td>15215.5</td>\n",
       "      <td>0.1</td>\n",
       "      <td>3.0</td>\n",
       "      <td>1011.750000</td>\n",
       "      <td>3400.0</td>\n",
       "      <td>15.9</td>\n",
       "      <td>7.833333</td>\n",
       "    </tr>\n",
       "    <tr>\n",
       "      <th>6669</th>\n",
       "      <td>6742</td>\n",
       "      <td>2020</td>\n",
       "      <td>10</td>\n",
       "      <td>282</td>\n",
       "      <td>18</td>\n",
       "      <td>15215.5</td>\n",
       "      <td>0.0</td>\n",
       "      <td>3.0</td>\n",
       "      <td>1013.633333</td>\n",
       "      <td>5000.0</td>\n",
       "      <td>14.1</td>\n",
       "      <td>4.333333</td>\n",
       "    </tr>\n",
       "    <tr>\n",
       "      <th>6670</th>\n",
       "      <td>6743</td>\n",
       "      <td>2020</td>\n",
       "      <td>10</td>\n",
       "      <td>282</td>\n",
       "      <td>19</td>\n",
       "      <td>15215.5</td>\n",
       "      <td>0.0</td>\n",
       "      <td>3.0</td>\n",
       "      <td>1014.850000</td>\n",
       "      <td>12000.0</td>\n",
       "      <td>13.5</td>\n",
       "      <td>3.000000</td>\n",
       "    </tr>\n",
       "    <tr>\n",
       "      <th>6671</th>\n",
       "      <td>6744</td>\n",
       "      <td>2020</td>\n",
       "      <td>10</td>\n",
       "      <td>282</td>\n",
       "      <td>20</td>\n",
       "      <td>15215.5</td>\n",
       "      <td>0.0</td>\n",
       "      <td>3.0</td>\n",
       "      <td>1015.966667</td>\n",
       "      <td>15000.0</td>\n",
       "      <td>13.3</td>\n",
       "      <td>2.500000</td>\n",
       "    </tr>\n",
       "  </tbody>\n",
       "</table>\n",
       "<p>6672 rows × 12 columns</p>\n",
       "</div>"
      ],
      "text/plain": [
       "      index  year  month  day  hour  total_solar_production  production  \\\n",
       "0         1  2020      1    1     1                 12663.0         0.0   \n",
       "1         2  2020      1    1     2                 12663.0         0.0   \n",
       "2         3  2020      1    1     3                 12663.0         0.0   \n",
       "3         4  2020      1    1     4                 12663.0         0.0   \n",
       "4         5  2020      1    1     5                 12663.0         0.0   \n",
       "...     ...   ...    ...  ...   ...                     ...         ...   \n",
       "6667   6740  2020     10  282    16                 15215.4         0.1   \n",
       "6668   6741  2020     10  282    17                 15215.5         0.1   \n",
       "6669   6742  2020     10  282    18                 15215.5         0.0   \n",
       "6670   6743  2020     10  282    19                 15215.5         0.0   \n",
       "6671   6744  2020     10  282    20                 15215.5         0.0   \n",
       "\n",
       "      clouds  air pressure  visibility  temperature  wind speed  \n",
       "0        3.0   1033.966667      3100.0          3.2    2.500000  \n",
       "1        3.0   1033.600000      2800.0          2.9    2.333333  \n",
       "2        3.0   1033.266667      2900.0          2.5    2.666667  \n",
       "3        3.0   1032.833333      2800.0          2.2    2.000000  \n",
       "4        3.0   1032.516667       800.0          2.0    2.166667  \n",
       "...      ...           ...         ...          ...         ...  \n",
       "6667     3.0   1010.950000      2800.0         15.9    8.833333  \n",
       "6668     3.0   1011.750000      3400.0         15.9    7.833333  \n",
       "6669     3.0   1013.633333      5000.0         14.1    4.333333  \n",
       "6670     3.0   1014.850000     12000.0         13.5    3.000000  \n",
       "6671     3.0   1015.966667     15000.0         13.3    2.500000  \n",
       "\n",
       "[6672 rows x 12 columns]"
      ]
     },
     "execution_count": 57,
     "metadata": {},
     "output_type": "execute_result"
    }
   ],
   "source": [
    "improved_data_20"
   ]
  },
  {
   "cell_type": "markdown",
   "metadata": {},
   "source": [
    "### Question 17\n",
    "\n",
    "Investigate and then explain in at most 100 words in the variable `question_change` what you think may be responsible for the change in your model's performance."
   ]
  },
  {
   "cell_type": "code",
   "execution_count": 58,
   "metadata": {},
   "outputs": [
    {
     "name": "stdout",
     "output_type": "stream",
     "text": [
      "2020-01: 0 \n",
      "2020-02: 0 \n",
      "2020-03: 0 \n",
      "2020-04: 0 \n",
      "2020-05: 0 \n",
      "2020-06: 0 \n",
      "2020-07: 0 \n",
      "2020-08: 0 \n",
      "2020-09: 0 \n",
      "2020-10: 23 \n",
      "2020-11: 30 (Whole month missing)\n",
      "2020-12: 31 (Whole month missing)\n"
     ]
    }
   ],
   "source": [
    "# TODO: Investigate changes\n",
    "# Print missing days\n",
    "\n",
    "#First we find the period from the data range of the first date to the last date recorded and we extract the unique months to initialize our list with zeros\n",
    "period = pd.date_range(start='2020-01-01', end='2020-12-31')\n",
    "months = period.strftime(\"%Y-%m\").unique().tolist()\n",
    "question_num_missing_days_20 = [0]*len(months)\n",
    "\n",
    "#We find the days missing from our dataset, and we iterate to count the number of days each month is missing\n",
    "days_missing = period.difference(pd.to_datetime(raw_energy_20['date'])).strftime(\"%Y-%m\")\n",
    "for day in days_missing:\n",
    "    question_num_missing_days_20[months.index(day)] += 1\n",
    "\n",
    "# Print missing months (depending on how many days each month has)\n",
    "question_missing_months_20 = []\n",
    "for num, month in enumerate(months):\n",
    "    if question_num_missing_days_20[num] == pd.Period(month).days_in_month:\n",
    "        question_missing_months_20.append(month)\n",
    "\n",
    "for num, month in enumerate(months):\n",
    "    print(\"{}: {}\".format(month, question_num_missing_days_20[num]), \"(Whole month missing)\" if (month in question_missing_months_20) else \"\")    "
   ]
  },
  {
   "cell_type": "code",
   "execution_count": 59,
   "metadata": {},
   "outputs": [],
   "source": [
    "#// BEGIN_TODO [Q17]\n",
    "question_change = '''The main reason for the R2 score being lower, is that the data of 2020 is around one third of the size of the years 2017-2019. \n",
    "We get a very similar R2 score, if for the 2017-2019 data we get the same data size, as the proportion of the data's variance is similar. For the mean \n",
    "absolute error, the 2020 data difference (error) betweeen the predicted and observed values is greater. Thus, the average of the absolute errors is greater.\n",
    "The main reason for that, is that the 2020 data have no missing days.'''\n",
    "#// END_TODO [Q17]"
   ]
  },
  {
   "cell_type": "markdown",
   "metadata": {},
   "source": [
    "### Question 18\n",
    "\n",
    "To make your model robust to these kind of changes, you may want to re-train it on more appropriate data. Using all the data you have been provided so far, compose more suitable training and validation data sets, and assign them to `new_training_data` and `new_validation_data`, respectively. the Scikit-Learn library has some potentially useful functions for generating these data sets (https://scikit-learn.org/stable/modules/classes.html#module-sklearn.model_selection)."
   ]
  },
  {
   "cell_type": "code",
   "execution_count": 60,
   "metadata": {},
   "outputs": [
    {
     "name": "stdout",
     "output_type": "stream",
     "text": [
      "0.283484052414242\n",
      "0.28808854429036646\n",
      "0.3421958296720507\n"
     ]
    }
   ],
   "source": [
    "#// BEGIN_TODO [Q18]\n",
    "# Combine the two datasets\n",
    "combined_data = pd.concat([improved_data, improved_data_20])\n",
    "\n",
    "# Train model\n",
    "X = combined_data[[\"clouds\", \"temperature\", \"wind speed\", \"hour\", \"month\", \"air pressure\", \"visibility\"]].values\n",
    "y = combined_data[\"production\"].values\n",
    "X_train, X_test, y_train, y_test = train_test_split(X, y, test_size=0.2, random_state=42)\n",
    "\n",
    "'''\n",
    "combined_model = LinearRegression()\n",
    "combined_model.fit(X_train, y_train)\n",
    "y_pred = combined_model.predict(X_test)\n",
    "combined_mad = mean_absolute_error(y_test, y_pred)\n",
    "\n",
    "print(cross_val_score(combined_model, X_test, y_test, cv=5).mean())\n",
    "print(combined_model.score(X_test, y_test))\n",
    "print(combined_mad)'''\n",
    "#// END_TODO [Q18]"
   ]
  },
  {
   "cell_type": "markdown",
   "metadata": {},
   "source": [
    "### Predicting consumption"
   ]
  },
  {
   "cell_type": "markdown",
   "metadata": {},
   "source": [
    "Besides solar production, we are also interested in predicting energy consumption. Being able to accurately predict the power bill may save us from any surprises in the future. The year 2020 has been rather different from most other years, to say the least. Now that you have the data for part of the year 2020, let's look into energy consumption anomalies that may be found here."
   ]
  },
  {
   "cell_type": "markdown",
   "metadata": {},
   "source": [
    "### Question 19"
   ]
  },
  {
   "cell_type": "markdown",
   "metadata": {},
   "source": [
    "The energy consumption shows two dips in the data from 2020 due to the turning off of large electrical appliances. For each of the dips, fill in the start and end day when the decrease occurred in the variables `consumption_dip_1` and `consumption_dip_2` as a list of two dates each. Please use the YYYY-MM-DD format (e.g. `[\"2020-02-12\", \"2020-02-14\"]`)."
   ]
  },
  {
   "cell_type": "code",
   "execution_count": 61,
   "metadata": {},
   "outputs": [
    {
     "name": "stdout",
     "output_type": "stream",
     "text": [
      "   index  year  month  day  total_consumption    cons\n",
      "0      1  2020      1    2          24623.996  16.320\n",
      "1      2  2020      1    3          24637.811  13.815\n",
      "2      3  2020      1    4          24656.602  18.791\n",
      "3      4  2020      1    5          24672.243  15.641\n",
      "4      5  2020      1    6          24684.236  11.993\n"
     ]
    },
    {
     "data": {
      "image/png": "[encoded data removed]",
      "text/plain": [
       "<Figure size 1008x648 with 1 Axes>"
      ]
     },
     "metadata": {
      "needs_background": "light"
     },
     "output_type": "display_data"
    }
   ],
   "source": [
    "#// BEGIN_TODO [Q19]\n",
    "raw_energy_20.head()\n",
    "col = \"total_consumption\"\n",
    "consumption = raw_energy_20.copy()\n",
    "times = pd.to_datetime(consumption[\"seconds\"], unit='s')\n",
    "consumption = consumption.groupby([times.dt.year, times.dt.month, times.dt.dayofyear])[[col]].agg(np.max)\n",
    "consumption.index.names = [\"year\", \"month\", \"day\"]\n",
    "consumption = consumption.dropna()\n",
    "consumption = consumption.reset_index()\n",
    "\n",
    "consumption[\"cons\"] = consumption[col] - consumption[col].shift(1)\n",
    "consumption.loc[np.isnan(consumption.cons)]\n",
    "consumption = consumption.dropna().reset_index()\n",
    "\n",
    "print(consumption.head())\n",
    "plt.rcParams[\"figure.figsize\"] = (14, 9) # (w, h)\n",
    "X = consumption[:281][\"index\"]\n",
    "Y = consumption[:281][\"cons\"]\n",
    "plt.plot(X, Y)\n",
    "plt.xlabel('Epoch time (h)')\n",
    "plt.ylabel('cons (kWh)')\n",
    "plt.axis([X.min(), X.max(), Y.min(), Y.max()])\n",
    "\n",
    "consumption_dip_1 = [\"2020-07-11\", \"2020-07-16\"]\n",
    "consumption_dip_2 = [\"2020-08-02\", \"2020-08-16\"]\n",
    "#// END_TODO [Q19]"
   ]
  },
  {
   "cell_type": "markdown",
   "metadata": {},
   "source": [
    "### Question 20\n",
    "\n",
    "Consumption may depend on other factors than production, so we may need to reconsider the features we chose in question 12. Considering the new training target, which two features from question 12 are most promising for the prediction of energy consumption? Assign them to `question_consumption_features`."
   ]
  },
  {
   "cell_type": "code",
   "execution_count": 62,
   "metadata": {},
   "outputs": [
    {
     "name": "stdout",
     "output_type": "stream",
     "text": [
      "year -0.003102720321594088\n",
      "month 0.5634534723264628\n",
      "day 0.5693675190528491\n",
      "cons 1.0\n",
      "hour -0.0034042341359032946\n",
      "clouds 0.09106038132882766\n",
      "air pressure -0.0015856994896028542\n",
      "visibility 0.044451864284639875\n",
      "temperature 0.3847636135459982\n",
      "wind speed 0.08548288791107594\n"
     ]
    }
   ],
   "source": [
    "#// BEGIN_TODO [Q20]\n",
    "def test(data, col):\n",
    "    X = data[[col]].values\n",
    "    y = data[\"cons\"].values\n",
    "    X_train, X_test, y_train, y_test = train_test_split(X, y, test_size=0.2, random_state=42)\n",
    "\n",
    "    model = LinearRegression()\n",
    "    model.fit(X_train, y_train)\n",
    "    return model.score(X_test, y_test)\n",
    "\n",
    "#Merge and remove outliers\n",
    "data_20 = pd.merge(consumption, weather2).dropna().reset_index(drop=True)\n",
    "\n",
    "for col in data_20.columns:\n",
    "    if col not in ['total_consumption', 'index']:\n",
    "        print(col, test(data_20, col))\n",
    "        \n",
    "question_consumption_features = [\"month\", \"day\"]\n",
    "#// END_TODO [Q20]"
   ]
  },
  {
   "cell_type": "code",
   "execution_count": 96,
   "metadata": {},
   "outputs": [
    {
     "data": {
      "text/plain": [
       "index               -0.738122\n",
       "year                      NaN\n",
       "month               -0.735078\n",
       "day                 -0.738122\n",
       "total_consumption   -0.762563\n",
       "hour                -0.000509\n",
       "clouds               0.303849\n",
       "air pressure        -0.046029\n",
       "visibility          -0.223701\n",
       "temperature         -0.627446\n",
       "wind speed           0.287768\n",
       "dtype: float64"
      ]
     },
     "execution_count": 96,
     "metadata": {},
     "output_type": "execute_result"
    }
   ],
   "source": [
    "correlations = data_20.drop(\"cons\", axis=1).apply(lambda x: x.corr(data_20['cons']))\n",
    "correlations"
   ]
  },
  {
   "cell_type": "markdown",
   "metadata": {},
   "source": [
    "Train and evaluate your new model on the data from 2017 through 2019 (do not include the data from 2020) so you can predict the energy consumption."
   ]
  },
  {
   "cell_type": "code",
   "execution_count": 63,
   "metadata": {},
   "outputs": [
    {
     "name": "stdout",
     "output_type": "stream",
     "text": [
      "year 0.00011069843029243298\n",
      "month -0.0002535342180221001\n",
      "day 0.0011664014969169356\n",
      "cons 1.0\n",
      "hour -0.0005458692901589846\n",
      "air pressure 0.007285673956453298\n",
      "visibility 0.002257597883337792\n",
      "temperature 0.00716701930464958\n",
      "wind speed -0.0008180489967117843\n"
     ]
    },
    {
     "data": {
      "text/plain": [
       "LinearRegression()"
      ]
     },
     "execution_count": 63,
     "metadata": {},
     "output_type": "execute_result"
    }
   ],
   "source": [
    "# TODO: Train a new model to predict energy consumption\n",
    "col = \"total_consumption\"\n",
    "consumption1 = raw_energy.copy()\n",
    "times = pd.to_datetime(consumption1[\"seconds\"], unit='s')\n",
    "consumption1 = consumption1.groupby([times.dt.year, times.dt.month, times.dt.dayofyear])[[col]].agg(np.max)\n",
    "consumption1.index.names = [\"year\", \"month\", \"day\"]\n",
    "consumption1 = consumption1.dropna()\n",
    "consumption1 = consumption1.reset_index()\n",
    "\n",
    "consumption1[\"cons\"] = consumption1[col] - consumption1[col].shift(1)\n",
    "consumption1.loc[np.isnan(consumption1.cons)]\n",
    "consumption1 = consumption1.dropna().reset_index()\n",
    "\n",
    "#Merge and remove outliers\n",
    "data = pd.merge(consumption1, weather).dropna().reset_index(drop=True)\n",
    "X = data[[\"month\", \"day\"]].values\n",
    "y = data[\"cons\"].values\n",
    "\n",
    "for col in data.columns:\n",
    "    if col not in ['total_consumption', 'index']:\n",
    "        print(col, test(data, col))\n",
    "\n",
    "model = LinearRegression()\n",
    "model.fit(X, y)"
   ]
  },
  {
   "cell_type": "markdown",
   "metadata": {},
   "source": [
    "### Question 21\n",
    "\n",
    "As in question 17, check this new model's performance when predicting the energy consumption for the data from 2020. Is there a shift taking place in the data underlying the model? If so, what kind of shift do you think it is? Assign the integer corresponding to the correct answer to `question_consumption_shift`.\n",
    "\n",
    "1. Sample covariate shift\n",
    "2. Source component shift"
   ]
  },
  {
   "cell_type": "code",
   "execution_count": 64,
   "metadata": {},
   "outputs": [],
   "source": [
    "#// BEGIN_TODO [Q21]\n",
    "X_20 = data_20[[\"month\", \"day\"]].values\n",
    "y_20 = data_20[\"cons\"].values\n",
    "model.score(X_20, y_20) #-3.274024477487914\n",
    "\n",
    "question_consumption_shift = 1 # the dependence between factors changed in 2020, as consumtion patterns in the house changed with working from home\n",
    "#// END_TODO [Q21]"
   ]
  },
  {
   "cell_type": "markdown",
   "metadata": {},
   "source": [
    "# Feedback\n",
    "\n",
    "Please fill in this questionaire to help us improve this course for the next year. Your feedback will be anonymized and will not affect your grade in any way!"
   ]
  },
  {
   "cell_type": "markdown",
   "metadata": {},
   "source": [
    "### How many hours did you spend on these Exercises?\n",
    "\n",
    "Assign a number to `feedback_time`."
   ]
  },
  {
   "cell_type": "code",
   "execution_count": 65,
   "metadata": {
    "scrolled": true
   },
   "outputs": [],
   "source": [
    "#// BEGIN_TODO [Feedback_1]\n",
    "feedback_time=45\n",
    "#// END_TODO [Feedback_1]"
   ]
  },
  {
   "cell_type": "markdown",
   "metadata": {},
   "source": [
    "### How difficult did you find these Exercises?\n",
    "\n",
    "Assign an integer to `feedback_difficulty`, on a scale 1 - 10, with 1 being very easy."
   ]
  },
  {
   "cell_type": "code",
   "execution_count": 66,
   "metadata": {},
   "outputs": [],
   "source": [
    "#// BEGIN_TODO [Feedback_2]\n",
    "feedback_difficulty=7\n",
    "#// END_TODO [Feedback_2]"
   ]
  },
  {
   "cell_type": "markdown",
   "metadata": {},
   "source": [
    "### Did you take the course Foundations of Data Mining?\n",
    "\n",
    "Assign a boolean value to `feedback_foundations` (True or False)."
   ]
  },
  {
   "cell_type": "code",
   "execution_count": 67,
   "metadata": {},
   "outputs": [],
   "source": [
    "#// BEGIN_TODO [Feedback_3]\n",
    "feedback_foundations=False\n",
    "#// END_TODO [Feedback_3]"
   ]
  },
  {
   "cell_type": "markdown",
   "metadata": {},
   "source": [
    "### Did you do any other Machine Learning-related coursework (university/workshop/online/etc)\n",
    "\n",
    "Assign an answer to `feedback_other`, describing any other coursework done."
   ]
  },
  {
   "cell_type": "code",
   "execution_count": 68,
   "metadata": {},
   "outputs": [],
   "source": [
    "#// BEGIN_TODO [Feedback_4]\n",
    "feedback_other=True\n",
    "#// END_TODO [Feedback_4]"
   ]
  },
  {
   "cell_type": "markdown",
   "metadata": {},
   "source": [
    "### (Optional) Which parts of the assignment did you like?\n",
    "\n",
    "Assign a string to `feedback_like`."
   ]
  },
  {
   "cell_type": "code",
   "execution_count": 69,
   "metadata": {},
   "outputs": [],
   "source": [
    "#// BEGIN_TODO [Feedback_5]\n",
    "#// END_TODO [Feedback_5]"
   ]
  },
  {
   "cell_type": "markdown",
   "metadata": {},
   "source": [
    "### (Optional) Which parts of the assignment could be improved?\n",
    "\n",
    "Assign a string to `feedback_improve`."
   ]
  },
  {
   "cell_type": "code",
   "execution_count": 70,
   "metadata": {},
   "outputs": [],
   "source": [
    "#// BEGIN_TODO [Feedback_6]\n",
    "#// END_TODO [Feedback_6]"
   ]
  }
 ],
 "metadata": {
  "kernelspec": {
   "display_name": "Python 3",
   "language": "python",
   "name": "python3"
  },
  "language_info": {
   "codemirror_mode": {
    "name": "ipython",
    "version": 3
   },
   "file_extension": ".py",
   "mimetype": "text/x-python",
   "name": "python",
   "nbconvert_exporter": "python",
   "pygments_lexer": "ipython3",
   "version": "3.8.5"
  },
  "toc": {
   "base_numbering": 1,
   "nav_menu": {},
   "number_sections": false,
   "sideBar": true,
   "skip_h1_title": false,
   "title_cell": "Table of Contents",
   "title_sidebar": "Contents",
   "toc_cell": false,
   "toc_position": {},
   "toc_section_display": true,
   "toc_window_display": true
  }
 },
 "nbformat": 4,
 "nbformat_minor": 4
}
